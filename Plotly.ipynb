{
 "cells": [
  {
   "cell_type": "markdown",
   "metadata": {},
   "source": [
    "# Utilisation de la bibliothèque Plotly"
   ]
  },
  {
   "cell_type": "code",
   "execution_count": 12,
   "metadata": {},
   "outputs": [
    {
     "name": "stdout",
     "output_type": "stream",
     "text": [
      "   sepal_length  sepal_width  petal_length  petal_width species  species_id\n",
      "0           5.1          3.5           1.4          0.2  setosa           1\n",
      "1           4.9          3.0           1.4          0.2  setosa           1\n",
      "2           4.7          3.2           1.3          0.2  setosa           1\n",
      "3           4.6          3.1           1.5          0.2  setosa           1\n",
      "4           5.0          3.6           1.4          0.2  setosa           1\n"
     ]
    }
   ],
   "source": [
    "import plotly.express as px\n",
    "import plotly.graph_objects as go\n",
    "import pandas as pd\n",
    "import plotly.io as pio\n",
    "pio.renderers.default = \"browser\"\n",
    "\n",
    "# Charger un dataset intégré de Plotly\n",
    "df = px.data.iris()   # Fleurs d'iris\n",
    "print(df.head())"
   ]
  },
  {
   "cell_type": "markdown",
   "metadata": {},
   "source": [
    "## Scatter plot interactif"
   ]
  },
  {
   "cell_type": "code",
   "execution_count": 13,
   "metadata": {},
   "outputs": [],
   "source": [
    "fig = px.scatter(\n",
    "    df,\n",
    "    x=\"sepal_width\",\n",
    "    y=\"sepal_length\",\n",
    "    color=\"species\",\n",
    "    size=\"petal_width\",\n",
    "    hover_data=[\"petal_length\"]\n",
    ")\n",
    "fig.update_layout(title=\"Scatter plot interactif - Iris\")\n",
    "fig.show()"
   ]
  },
  {
   "cell_type": "markdown",
   "metadata": {},
   "source": [
    "## Line plot interactif"
   ]
  },
  {
   "cell_type": "code",
   "execution_count": 14,
   "metadata": {},
   "outputs": [],
   "source": [
    "# Dataset temporel\n",
    "df_flights = px.data.gapminder().query(\"country=='France'\")\n",
    "\n",
    "fig = px.line(\n",
    "    df_flights,\n",
    "    x=\"year\",\n",
    "    y=\"lifeExp\",\n",
    "    title=\"Espérance de vie en France (Gapminder)\"\n",
    ")\n",
    "fig.show()"
   ]
  },
  {
   "cell_type": "markdown",
   "metadata": {},
   "source": [
    "## Bar chart"
   ]
  },
  {
   "cell_type": "code",
   "execution_count": 15,
   "metadata": {},
   "outputs": [],
   "source": [
    "df_tips = px.data.tips()\n",
    "\n",
    "fig = px.bar(\n",
    "    df_tips,\n",
    "    x=\"day\",\n",
    "    y=\"total_bill\",\n",
    "    color=\"sex\",\n",
    "    barmode=\"group\",\n",
    "    title=\"Total des additions par jour et par sexe\"\n",
    ")\n",
    "fig.show()"
   ]
  },
  {
   "cell_type": "markdown",
   "metadata": {},
   "source": [
    "## Histogramme"
   ]
  },
  {
   "cell_type": "code",
   "execution_count": 16,
   "metadata": {},
   "outputs": [],
   "source": [
    "fig = px.histogram(\n",
    "    df_tips,\n",
    "    x=\"total_bill\",\n",
    "    color=\"sex\",\n",
    "    nbins=20,\n",
    "    marginal=\"box\",   # ajoute un boxplot au-dessus\n",
    "    title=\"Histogramme des additions avec boxplot\"\n",
    ")\n",
    "fig.show()"
   ]
  },
  {
   "cell_type": "markdown",
   "metadata": {},
   "source": [
    "## Boxplot et Violinplot"
   ]
  },
  {
   "cell_type": "code",
   "execution_count": 17,
   "metadata": {},
   "outputs": [],
   "source": [
    "df_tips = px.data.tips()\n",
    "\n",
    "# Boxplot\n",
    "fig = px.box(df_tips, x=\"day\", y=\"total_bill\", color=\"sex\", title=\"Boxplot des additions par jour et sexe\")\n",
    "fig.show()\n",
    "\n",
    "# Violinplot\n",
    "fig = px.violin(df_tips, x=\"day\", y=\"total_bill\", color=\"sex\", box=True, points=\"all\", title=\"Violinplot avec points\")\n",
    "fig.show()"
   ]
  },
  {
   "cell_type": "markdown",
   "metadata": {},
   "source": [
    "## Heatmap"
   ]
  },
  {
   "cell_type": "code",
   "execution_count": 18,
   "metadata": {},
   "outputs": [],
   "source": [
    "import numpy as np\n",
    "\n",
    "# Exemple : matrice aléatoire\n",
    "z = np.random.rand(5,5)\n",
    "\n",
    "fig = px.imshow(z, text_auto=True, color_continuous_scale=\"Viridis\", title=\"Heatmap 5x5 aléatoire\")\n",
    "fig.show()"
   ]
  },
  {
   "cell_type": "markdown",
   "metadata": {},
   "source": [
    "## Scatter 3D"
   ]
  },
  {
   "cell_type": "code",
   "execution_count": 19,
   "metadata": {},
   "outputs": [],
   "source": [
    "fig = px.scatter_3d(\n",
    "    df,\n",
    "    x=\"sepal_length\",\n",
    "    y=\"sepal_width\",\n",
    "    z=\"petal_length\",\n",
    "    color=\"species\",\n",
    "    size=\"petal_width\",\n",
    "    hover_data=[\"petal_length\"]\n",
    ")\n",
    "fig.update_layout(title=\"Scatter 3D - Iris\")\n",
    "fig.show()"
   ]
  },
  {
   "cell_type": "markdown",
   "metadata": {},
   "source": [
    "## Surface 3D"
   ]
  },
  {
   "cell_type": "code",
   "execution_count": 20,
   "metadata": {},
   "outputs": [],
   "source": [
    "x = np.linspace(-2, 2, 50)\n",
    "y = np.linspace(-2, 2, 50)\n",
    "X, Y = np.meshgrid(x, y)\n",
    "Z = np.sin(X**2 + Y**2)\n",
    "\n",
    "fig = go.Figure(data=[go.Surface(z=Z, x=X, y=Y)])\n",
    "fig.update_layout(title=\"Surface 3D - sin(x^2 + y^2)\", scene=dict(xaxis_title='X', yaxis_title='Y', zaxis_title='Z'))\n",
    "fig.show()"
   ]
  },
  {
   "cell_type": "markdown",
   "metadata": {},
   "source": [
    "## Hover tooltips personnalisés"
   ]
  },
  {
   "cell_type": "code",
   "execution_count": 21,
   "metadata": {},
   "outputs": [],
   "source": [
    "fig = px.scatter(\n",
    "    df,\n",
    "    x=\"sepal_width\",\n",
    "    y=\"sepal_length\",\n",
    "    color=\"species\",\n",
    "    hover_name=\"species\",\n",
    "    hover_data={\"petal_length\": True, \"petal_width\": True, \"sepal_width\": False}  # personnalisation\n",
    ")\n",
    "fig.update_layout(title=\"Scatter avec hover personnalisé\")\n",
    "fig.show()"
   ]
  },
  {
   "cell_type": "markdown",
   "metadata": {},
   "source": [
    "## Sliders et animation simple"
   ]
  },
  {
   "cell_type": "code",
   "execution_count": 22,
   "metadata": {},
   "outputs": [],
   "source": [
    "df_gap = px.data.gapminder()\n",
    "\n",
    "fig = px.scatter(\n",
    "    df_gap.query(\"continent=='Europe'\"),\n",
    "    x=\"gdpPercap\",\n",
    "    y=\"lifeExp\",\n",
    "    size=\"pop\",\n",
    "    color=\"country\",\n",
    "    animation_frame=\"year\",\n",
    "    animation_group=\"country\",\n",
    "    size_max=60,\n",
    "    log_x=True,\n",
    "    title=\"Évolution du PIB vs espérance de vie en Europe\"\n",
    ")\n",
    "fig.show()"
   ]
  },
  {
   "cell_type": "markdown",
   "metadata": {},
   "source": [
    "## Dropdown menu pour changer les variables"
   ]
  },
  {
   "cell_type": "code",
   "execution_count": 23,
   "metadata": {},
   "outputs": [],
   "source": [
    "df_tips = px.data.tips()\n",
    "\n",
    "fig = px.scatter(df_tips, x=\"total_bill\", y=\"tip\", color=\"sex\", title=\"Tips avec dropdown\")\n",
    "fig.update_layout(\n",
    "    updatemenus=[dict(\n",
    "        buttons=list([\n",
    "            dict(label=\"Total Bill vs Tip\", method=\"update\", args=[{\"x\":[\"total_bill\"], \"y\":[\"tip\"]}, {\"title\":\"Total Bill vs Tip\"}]),\n",
    "            dict(label=\"Tip vs Size\", method=\"update\", args=[{\"x\":[\"size\"], \"y\":[\"tip\"]}, {\"title\":\"Tip vs Size\"}])\n",
    "        ]),\n",
    "        direction=\"down\",\n",
    "        showactive=True\n",
    "    )]\n",
    ")\n",
    "fig.show()"
   ]
  },
  {
   "cell_type": "markdown",
   "metadata": {},
   "source": [
    "## Cheat Sheet Plotly"
   ]
  },
  {
   "cell_type": "code",
   "execution_count": 24,
   "metadata": {},
   "outputs": [],
   "source": [
    "import plotly.express as px\n",
    "import plotly.graph_objects as go\n",
    "\n",
    "# ===============================\n",
    "# 1. Graphiques de base\n",
    "# ===============================\n",
    "px.scatter(df, x=\"sepal_width\", y=\"sepal_length\", color=\"species\", size=\"petal_width\", hover_data=[\"petal_length\"])\n",
    "px.line(px.data.gapminder().query(\"country=='France'\"), x=\"year\", y=\"lifeExp\")\n",
    "px.bar(px.data.tips(), x=\"day\", y=\"total_bill\", color=\"sex\", barmode=\"group\")\n",
    "px.histogram(px.data.tips(), x=\"total_bill\", color=\"sex\", nbins=20, marginal=\"box\")\n",
    "\n",
    "# ===============================\n",
    "# 2. Graphiques avancés\n",
    "# ===============================\n",
    "px.box(px.data.tips(), x=\"day\", y=\"total_bill\", color=\"sex\")\n",
    "px.violin(px.data.tips(), x=\"day\", y=\"total_bill\", color=\"sex\", box=True, points=\"all\")\n",
    "px.imshow([[1,2],[3,4]], text_auto=True, color_continuous_scale=\"Viridis\")\n",
    "px.scatter_3d(df, x=\"sepal_length\", y=\"sepal_width\", z=\"petal_length\", color=\"species\", size=\"petal_width\")\n",
    "go.Figure(data=[go.Surface(z=[[1,2],[3,4]])])\n",
    "\n",
    "# ===============================\n",
    "# 3. Interactivité\n",
    "# ===============================\n",
    "# Hover personnalisé\n",
    "px.scatter(df, x=\"sepal_width\", y=\"sepal_length\", color=\"species\", hover_name=\"species\", hover_data={\"petal_length\": True})\n",
    "\n",
    "# Animation / Slider\n",
    "px.scatter(px.data.gapminder().query(\"continent=='Europe'\"), x=\"gdpPercap\", y=\"lifeExp\", size=\"pop\",\n",
    "           color=\"country\", animation_frame=\"year\", animation_group=\"country\", log_x=True, size_max=60)\n",
    "\n",
    "# Dropdown / Menu interactif\n",
    "fig = px.scatter(px.data.tips(), x=\"total_bill\", y=\"tip\", color=\"sex\")\n",
    "fig.update_layout(\n",
    "    updatemenus=[dict(\n",
    "        buttons=[dict(label=\"Total Bill vs Tip\", method=\"update\", args=[{\"x\":[\"total_bill\"], \"y\":[\"tip\"]}, {\"title\":\"Total Bill vs Tip\"}]),\n",
    "                 dict(label=\"Tip vs Size\", method=\"update\", args=[{\"x\":[\"size\"], \"y\":[\"tip\"]}, {\"title\":\"Tip vs Size\"}])],\n",
    "        direction=\"down\",\n",
    "        showactive=True\n",
    "    )]\n",
    ")\n",
    "fig.show()\n"
   ]
  }
 ],
 "metadata": {
  "kernelspec": {
   "display_name": "Python 3",
   "language": "python",
   "name": "python3"
  },
  "language_info": {
   "codemirror_mode": {
    "name": "ipython",
    "version": 3
   },
   "file_extension": ".py",
   "mimetype": "text/x-python",
   "name": "python",
   "nbconvert_exporter": "python",
   "pygments_lexer": "ipython3",
   "version": "3.13.0"
  }
 },
 "nbformat": 4,
 "nbformat_minor": 2
}
