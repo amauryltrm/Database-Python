{
 "cells": [
  {
   "cell_type": "markdown",
   "metadata": {},
   "source": [
    "# Utilisation de la bibliothèque Numpy"
   ]
  },
  {
   "cell_type": "markdown",
   "metadata": {},
   "source": [
    "## Import et création de tableaux 1D, 2D, 3D"
   ]
  },
  {
   "cell_type": "code",
   "execution_count": 73,
   "metadata": {},
   "outputs": [
    {
     "name": "stdout",
     "output_type": "stream",
     "text": [
      "Tableau 1D :\n",
      "[1 2 3 4 5]\n",
      "\n",
      "Tableau 2D :\n",
      "[[1 2 3]\n",
      " [4 5 6]]\n",
      "\n",
      "Tableau 3D :\n",
      "[[[1 2]\n",
      "  [3 4]]\n",
      "\n",
      " [[5 6]\n",
      "  [7 8]]]\n",
      "\n",
      "Type du tableau : <class 'numpy.ndarray'>\n",
      "Dimension : 1\n",
      "Forme : (5,)\n",
      "Type des éléments : int64\n"
     ]
    }
   ],
   "source": [
    "import numpy as np\n",
    "\n",
    "# Tableau 1D\n",
    "arr1 = np.array([1, 2, 3, 4, 5])\n",
    "print(\"Tableau 1D :\")\n",
    "print(arr1)\n",
    "\n",
    "# Tableau 2D\n",
    "arr2 = np.array([[1,2,3],[4,5,6]])\n",
    "print(\"\\nTableau 2D :\")\n",
    "print(arr2)\n",
    "\n",
    "# Tableau 3D\n",
    "arr3 = np.array([[[1,2],[3,4]], [[5,6],[7,8]]])\n",
    "print(\"\\nTableau 3D :\")\n",
    "print(arr3)\n",
    "\n",
    "# Type et dimension\n",
    "print(\"\\nType du tableau :\", type(arr1))\n",
    "print(\"Dimension :\", arr1.ndim)\n",
    "print(\"Forme :\", arr1.shape)\n",
    "print(\"Type des éléments :\", arr1.dtype)"
   ]
  },
  {
   "cell_type": "markdown",
   "metadata": {},
   "source": [
    "## Création avec arange, linspace, zeros, ones, eye, full"
   ]
  },
  {
   "cell_type": "code",
   "execution_count": 74,
   "metadata": {},
   "outputs": [
    {
     "name": "stdout",
     "output_type": "stream",
     "text": [
      "arange : [0 2 4 6 8]\n",
      "linspace : [0.   0.25 0.5  0.75 1.  ]\n",
      "Zeros :\n",
      " [[0. 0. 0.]\n",
      " [0. 0. 0.]]\n",
      "Ones :\n",
      " [[1. 1.]\n",
      " [1. 1.]\n",
      " [1. 1.]]\n",
      "Identity matrix 3x3 :\n",
      " [[1. 0. 0.]\n",
      " [0. 1. 0.]\n",
      " [0. 0. 1.]]\n",
      "Full 2x4 de 7 :\n",
      " [[7 7 7 7]\n",
      " [7 7 7 7]]\n"
     ]
    }
   ],
   "source": [
    "# arange : similaire à range mais retourne un ndarray\n",
    "arr = np.arange(0, 10, 2)  # 0,2,4,6,8\n",
    "print(\"arange :\", arr)\n",
    "\n",
    "# linspace : N valeurs également espacées entre deux bornes\n",
    "arr_lin = np.linspace(0, 1, 5)  # 0,0.25,0.5,0.75,1\n",
    "print(\"linspace :\", arr_lin)\n",
    "\n",
    "# zeros et ones\n",
    "print(\"Zeros :\\n\", np.zeros((2,3)))\n",
    "print(\"Ones :\\n\", np.ones((3,2)))\n",
    "\n",
    "# Identity matrix\n",
    "print(\"Identity matrix 3x3 :\\n\", np.eye(3))\n",
    "\n",
    "# Full : tableau rempli d'une valeur\n",
    "print(\"Full 2x4 de 7 :\\n\", np.full((2,4), 7))"
   ]
  },
  {
   "cell_type": "markdown",
   "metadata": {},
   "source": [
    "## Indexation simple 1D / 2D"
   ]
  },
  {
   "cell_type": "code",
   "execution_count": 75,
   "metadata": {},
   "outputs": [
    {
     "name": "stdout",
     "output_type": "stream",
     "text": [
      "Élément à l'index 2 : 30\n",
      "Dernier élément : 50\n",
      "\n",
      "Élément ligne 1, colonne 2 : 6\n",
      "Ligne 0 : [1 2 3]\n",
      "Colonne 1 : [2 5 8]\n"
     ]
    }
   ],
   "source": [
    "arr1 = np.array([10, 20, 30, 40, 50])\n",
    "print(\"Élément à l'index 2 :\", arr1[2])  # 30\n",
    "print(\"Dernier élément :\", arr1[-1])    # 50\n",
    "\n",
    "arr2 = np.array([[1,2,3],[4,5,6],[7,8,9]])\n",
    "print(\"\\nÉlément ligne 1, colonne 2 :\", arr2[1,2])  # 6\n",
    "print(\"Ligne 0 :\", arr2[0,:])\n",
    "print(\"Colonne 1 :\", arr2[:,1])"
   ]
  },
  {
   "cell_type": "markdown",
   "metadata": {},
   "source": [
    "## Slicing et masques booléens"
   ]
  },
  {
   "cell_type": "code",
   "execution_count": 76,
   "metadata": {},
   "outputs": [
    {
     "name": "stdout",
     "output_type": "stream",
     "text": [
      "Tableau complet : [0 1 2 3 4 5 6 7 8 9]\n",
      "Éléments index 2 à 5 : [2 3 4 5]\n",
      "Éléments pairs : [0 2 4 6 8]\n",
      "Masque : [ True False  True False  True False  True False  True False]\n",
      "Éléments pairs via masque : [0 2 4 6 8]\n"
     ]
    }
   ],
   "source": [
    "arr = np.arange(10)\n",
    "print(\"Tableau complet :\", arr)\n",
    "\n",
    "# Slicing simple\n",
    "print(\"Éléments index 2 à 5 :\", arr[2:6])\n",
    "print(\"Éléments pairs :\", arr[::2])  # pas de 2\n",
    "\n",
    "# Masque booléen\n",
    "mask = arr % 2 == 0\n",
    "print(\"Masque :\", mask)\n",
    "print(\"Éléments pairs via masque :\", arr[mask])"
   ]
  },
  {
   "cell_type": "markdown",
   "metadata": {},
   "source": [
    "## Indexation avancée avec listes / arrays"
   ]
  },
  {
   "cell_type": "code",
   "execution_count": 77,
   "metadata": {},
   "outputs": [
    {
     "name": "stdout",
     "output_type": "stream",
     "text": [
      "Éléments aux indices 0,2,4 : [10 30 50]\n",
      "Éléments aux indices 1 et 3 : [20 40]\n",
      "Éléments arr2[rows, cols] : [2 9]\n"
     ]
    }
   ],
   "source": [
    "arr = np.array([10, 20, 30, 40, 50])\n",
    "\n",
    "# Indexation avec liste d'indices\n",
    "indices = [0,2,4]\n",
    "print(\"Éléments aux indices 0,2,4 :\", arr[indices])\n",
    "\n",
    "# Indexation avec un array numpy\n",
    "arr_indices = np.array([1,3])\n",
    "print(\"Éléments aux indices 1 et 3 :\", arr[arr_indices])\n",
    "\n",
    "# Indexation 2D avancée\n",
    "arr2 = np.array([[1,2,3],[4,5,6],[7,8,9]])\n",
    "rows = np.array([0,2])\n",
    "cols = np.array([1,2])\n",
    "print(\"Éléments arr2[rows, cols] :\", arr2[rows, cols])  # [2,9]"
   ]
  },
  {
   "cell_type": "markdown",
   "metadata": {},
   "source": [
    "## Opérations élément par élément"
   ]
  },
  {
   "cell_type": "code",
   "execution_count": 78,
   "metadata": {},
   "outputs": [
    {
     "name": "stdout",
     "output_type": "stream",
     "text": [
      "Addition : [11 22 33 44]\n",
      "Soustraction : [ 9 18 27 36]\n",
      "Multiplication : [ 10  40  90 160]\n",
      "Division : [10. 10. 10. 10.]\n",
      "Puissance : [ 1  4  9 16]\n",
      "Racine carrée : [3.16227766 4.47213595 5.47722558 6.32455532]\n"
     ]
    }
   ],
   "source": [
    "arr1 = np.array([1,2,3,4])\n",
    "arr2 = np.array([10,20,30,40])\n",
    "\n",
    "# Addition, soustraction, multiplication, division\n",
    "print(\"Addition :\", arr1 + arr2)\n",
    "print(\"Soustraction :\", arr2 - arr1)\n",
    "print(\"Multiplication :\", arr1 * arr2)\n",
    "print(\"Division :\", arr2 / arr1)\n",
    "\n",
    "# Puissance et racine\n",
    "print(\"Puissance :\", arr1 ** 2)\n",
    "print(\"Racine carrée :\", np.sqrt(arr2))"
   ]
  },
  {
   "cell_type": "markdown",
   "metadata": {},
   "source": [
    "## Fonctions universelles (ufunc)"
   ]
  },
  {
   "cell_type": "code",
   "execution_count": 79,
   "metadata": {},
   "outputs": [
    {
     "name": "stdout",
     "output_type": "stream",
     "text": [
      "sin : [0.0000000e+00 1.0000000e+00 1.2246468e-16]\n",
      "cos : [ 1.000000e+00  6.123234e-17 -1.000000e+00]\n",
      "exp : [ 2.71828183  7.3890561  20.08553692]\n",
      "log : [0. 1. 2.]\n",
      "round : [1. 2. 4.]\n"
     ]
    }
   ],
   "source": [
    "arr = np.array([0, np.pi/2, np.pi])\n",
    "\n",
    "print(\"sin :\", np.sin(arr))\n",
    "print(\"cos :\", np.cos(arr))\n",
    "print(\"exp :\", np.exp([1,2,3]))\n",
    "print(\"log :\", np.log([1, np.e, np.e**2]))\n",
    "print(\"round :\", np.round([1.2, 2.5, 3.7]))"
   ]
  },
  {
   "cell_type": "markdown",
   "metadata": {},
   "source": [
    "## Comparaisons et opérations logiques"
   ]
  },
  {
   "cell_type": "code",
   "execution_count": 80,
   "metadata": {},
   "outputs": [
    {
     "name": "stdout",
     "output_type": "stream",
     "text": [
      "arr > 3 : [False False False  True  True]\n",
      "arr == 2 : [False  True False False False]\n",
      "2 < arr < 5 : [False False  True  True False]\n",
      "Éléments entre 2 et 5 : [3 4]\n"
     ]
    }
   ],
   "source": [
    "arr = np.array([1,2,3,4,5])\n",
    "\n",
    "# Comparaisons\n",
    "print(\"arr > 3 :\", arr > 3)\n",
    "print(\"arr == 2 :\", arr == 2)\n",
    "\n",
    "# Opérations logiques\n",
    "mask = (arr > 2) & (arr < 5)\n",
    "print(\"2 < arr < 5 :\", mask)\n",
    "\n",
    "# Utiliser le masque pour filtrer\n",
    "print(\"Éléments entre 2 et 5 :\", arr[mask])"
   ]
  },
  {
   "cell_type": "markdown",
   "metadata": {},
   "source": [
    "## Moyenne, somme, min, max, std, var"
   ]
  },
  {
   "cell_type": "code",
   "execution_count": 81,
   "metadata": {},
   "outputs": [
    {
     "name": "stdout",
     "output_type": "stream",
     "text": [
      "Somme : 15\n",
      "Moyenne : 3.0\n",
      "Minimum : 1\n",
      "Maximum : 5\n",
      "Écart-type : 1.4142135623730951\n",
      "Variance : 2.0\n"
     ]
    }
   ],
   "source": [
    "arr = np.array([1, 2, 3, 4, 5])\n",
    "\n",
    "print(\"Somme :\", np.sum(arr))\n",
    "print(\"Moyenne :\", np.mean(arr))\n",
    "print(\"Minimum :\", np.min(arr))\n",
    "print(\"Maximum :\", np.max(arr))\n",
    "print(\"Écart-type :\", np.std(arr))\n",
    "print(\"Variance :\", np.var(arr))"
   ]
  },
  {
   "cell_type": "markdown",
   "metadata": {},
   "source": [
    "## Agrégations par axe (axis)"
   ]
  },
  {
   "cell_type": "code",
   "execution_count": 82,
   "metadata": {},
   "outputs": [
    {
     "name": "stdout",
     "output_type": "stream",
     "text": [
      "Somme totale : 45\n",
      "Somme par colonne : [12 15 18]\n",
      "Somme par ligne : [ 6 15 24]\n",
      "Moyenne par ligne : [2. 5. 8.]\n"
     ]
    }
   ],
   "source": [
    "arr2 = np.array([[1,2,3],[4,5,6],[7,8,9]])\n",
    "\n",
    "# Somme totale\n",
    "print(\"Somme totale :\", np.sum(arr2))\n",
    "\n",
    "# Somme par colonne (axis=0)\n",
    "print(\"Somme par colonne :\", np.sum(arr2, axis=0))\n",
    "\n",
    "# Somme par ligne (axis=1)\n",
    "print(\"Somme par ligne :\", np.sum(arr2, axis=1))\n",
    "\n",
    "# Moyenne par ligne\n",
    "print(\"Moyenne par ligne :\", np.mean(arr2, axis=1))"
   ]
  },
  {
   "cell_type": "markdown",
   "metadata": {},
   "source": [
    "## Cumulatives (cumsum, cumprod)"
   ]
  },
  {
   "cell_type": "code",
   "execution_count": 83,
   "metadata": {},
   "outputs": [
    {
     "name": "stdout",
     "output_type": "stream",
     "text": [
      "Somme cumulée : [ 1  3  6 10]\n",
      "Produit cumulé : [ 1  2  6 24]\n",
      "Somme cumulée par colonne : [[1 2]\n",
      " [4 6]]\n",
      "Somme cumulée par ligne : [[1 3]\n",
      " [3 7]]\n"
     ]
    }
   ],
   "source": [
    "arr = np.array([1,2,3,4])\n",
    "\n",
    "print(\"Somme cumulée :\", np.cumsum(arr))\n",
    "print(\"Produit cumulé :\", np.cumprod(arr))\n",
    "\n",
    "arr2 = np.array([[1,2],[3,4]])\n",
    "print(\"Somme cumulée par colonne :\", np.cumsum(arr2, axis=0))\n",
    "print(\"Somme cumulée par ligne :\", np.cumsum(arr2, axis=1))"
   ]
  },
  {
   "cell_type": "markdown",
   "metadata": {},
   "source": [
    "## Reshape, flatten, ravel, transpose"
   ]
  },
  {
   "cell_type": "code",
   "execution_count": 84,
   "metadata": {},
   "outputs": [
    {
     "name": "stdout",
     "output_type": "stream",
     "text": [
      "Tableau original : [ 0  1  2  3  4  5  6  7  8  9 10 11]\n",
      "\n",
      "Reshape 3x4 :\n",
      " [[ 0  1  2  3]\n",
      " [ 4  5  6  7]\n",
      " [ 8  9 10 11]]\n",
      "\n",
      "Flatten : [ 0  1  2  3  4  5  6  7  8  9 10 11]\n",
      "\n",
      "Ravel : [ 0  1  2  3  4  5  6  7  8  9 10 11]\n",
      "\n",
      "Transpose :\n",
      " [[ 0  4  8]\n",
      " [ 1  5  9]\n",
      " [ 2  6 10]\n",
      " [ 3  7 11]]\n"
     ]
    }
   ],
   "source": [
    "arr = np.arange(12)  # 0 à 11\n",
    "print(\"Tableau original :\", arr)\n",
    "\n",
    "# Reshape en 3x4\n",
    "arr_reshaped = arr.reshape((3,4))\n",
    "print(\"\\nReshape 3x4 :\\n\", arr_reshaped)\n",
    "\n",
    "# Flatten : transforme en 1D\n",
    "arr_flat = arr_reshaped.flatten()\n",
    "print(\"\\nFlatten :\", arr_flat)\n",
    "\n",
    "# Ravel : vue 1D (pas de copie)\n",
    "arr_ravel = arr_reshaped.ravel()\n",
    "print(\"\\nRavel :\", arr_ravel)\n",
    "\n",
    "# Transpose\n",
    "print(\"\\nTranspose :\\n\", arr_reshaped.T)"
   ]
  },
  {
   "cell_type": "markdown",
   "metadata": {},
   "source": [
    "## Concatenation (hstack, vstack, stack)"
   ]
  },
  {
   "cell_type": "code",
   "execution_count": 85,
   "metadata": {},
   "outputs": [
    {
     "name": "stdout",
     "output_type": "stream",
     "text": [
      "vstack :\n",
      " [[1 2]\n",
      " [3 4]\n",
      " [5 6]\n",
      " [7 8]]\n",
      "\n",
      "hstack :\n",
      " [[1 2 5 6]\n",
      " [3 4 7 8]]\n",
      "\n",
      "stack avec nouvel axe 0 :\n",
      " [[[1 2]\n",
      "  [3 4]]\n",
      "\n",
      " [[5 6]\n",
      "  [7 8]]]\n"
     ]
    }
   ],
   "source": [
    "a = np.array([[1,2],[3,4]])\n",
    "b = np.array([[5,6],[7,8]])\n",
    "\n",
    "# Concatenation verticale (ajouter des lignes)\n",
    "vstacked = np.vstack((a,b))\n",
    "print(\"vstack :\\n\", vstacked)\n",
    "\n",
    "# Concatenation horizontale (ajouter des colonnes)\n",
    "hstacked = np.hstack((a,b))\n",
    "print(\"\\nhstack :\\n\", hstacked)\n",
    "\n",
    "# Stack avec nouvel axe\n",
    "stacked = np.stack((a,b), axis=0)\n",
    "print(\"\\nstack avec nouvel axe 0 :\\n\", stacked)"
   ]
  },
  {
   "cell_type": "markdown",
   "metadata": {},
   "source": [
    "## Split / array_split"
   ]
  },
  {
   "cell_type": "code",
   "execution_count": 86,
   "metadata": {},
   "outputs": [
    {
     "name": "stdout",
     "output_type": "stream",
     "text": [
      "Tableau original : [0 1 2 3 4 5 6 7 8 9]\n",
      "\n",
      "Split en 2 : [array([0, 1, 2, 3, 4]), array([5, 6, 7, 8, 9])]\n",
      "\n",
      "Split en 3 : [array([0, 1, 2, 3]), array([4, 5, 6]), array([7, 8, 9])]\n"
     ]
    }
   ],
   "source": [
    "arr = np.arange(10)\n",
    "print(\"Tableau original :\", arr)\n",
    "\n",
    "# Split en 2 parties égales\n",
    "parts = np.array_split(arr, 2)\n",
    "print(\"\\nSplit en 2 :\", parts)\n",
    "\n",
    "# Split en 3 parties (non égales possibles)\n",
    "parts3 = np.array_split(arr, 3)\n",
    "print(\"\\nSplit en 3 :\", parts3)"
   ]
  },
  {
   "cell_type": "markdown",
   "metadata": {},
   "source": [
    "## Produit matriciel (dot, @)"
   ]
  },
  {
   "cell_type": "code",
   "execution_count": 87,
   "metadata": {},
   "outputs": [
    {
     "name": "stdout",
     "output_type": "stream",
     "text": [
      "Produit avec np.dot :\n",
      " [[19 22]\n",
      " [43 50]]\n",
      "\n",
      "Produit avec @ :\n",
      " [[19 22]\n",
      " [43 50]]\n"
     ]
    }
   ],
   "source": [
    "A = np.array([[1,2],[3,4]])\n",
    "B = np.array([[5,6],[7,8]])\n",
    "\n",
    "# Produit matriciel\n",
    "prod1 = np.dot(A,B)\n",
    "print(\"Produit avec np.dot :\\n\", prod1)\n",
    "\n",
    "# Produit matriciel avec @\n",
    "prod2 = A @ B\n",
    "print(\"\\nProduit avec @ :\\n\", prod2)"
   ]
  },
  {
   "cell_type": "markdown",
   "metadata": {},
   "source": [
    "## Inverse, déterminant, valeurs propres"
   ]
  },
  {
   "cell_type": "code",
   "execution_count": 88,
   "metadata": {},
   "outputs": [
    {
     "name": "stdout",
     "output_type": "stream",
     "text": [
      "Inverse de A :\n",
      " [[ 0.66666667 -0.33333333]\n",
      " [-0.33333333  0.66666667]]\n",
      "\n",
      "Determinant de A : 2.9999999999999996\n",
      "\n",
      "Valeurs propres : [3. 1.]\n",
      "Vecteurs propres :\n",
      " [[ 0.70710678 -0.70710678]\n",
      " [ 0.70710678  0.70710678]]\n"
     ]
    }
   ],
   "source": [
    "A = np.array([[2,1],[1,2]])\n",
    "\n",
    "# Inverse\n",
    "A_inv = np.linalg.inv(A)\n",
    "print(\"Inverse de A :\\n\", A_inv)\n",
    "\n",
    "# Determinant\n",
    "det_A = np.linalg.det(A)\n",
    "print(\"\\nDeterminant de A :\", det_A)\n",
    "\n",
    "# Valeurs propres et vecteurs propres\n",
    "eigvals, eigvecs = np.linalg.eig(A)\n",
    "print(\"\\nValeurs propres :\", eigvals)\n",
    "print(\"Vecteurs propres :\\n\", eigvecs)"
   ]
  },
  {
   "cell_type": "markdown",
   "metadata": {},
   "source": [
    "## Normes et traces"
   ]
  },
  {
   "cell_type": "code",
   "execution_count": 89,
   "metadata": {},
   "outputs": [
    {
     "name": "stdout",
     "output_type": "stream",
     "text": [
      "Trace de A : 5\n",
      "Norme L2 (frobenius) : 5.477225575051661\n",
      "Norme L1 : 6.0\n",
      "Norme infinie : 7.0\n"
     ]
    }
   ],
   "source": [
    "A = np.array([[1,2],[3,4]])\n",
    "\n",
    "# Trace\n",
    "print(\"Trace de A :\", np.trace(A))\n",
    "\n",
    "# Normes\n",
    "print(\"Norme L2 (frobenius) :\", np.linalg.norm(A))\n",
    "print(\"Norme L1 :\", np.linalg.norm(A, ord=1))\n",
    "print(\"Norme infinie :\", np.linalg.norm(A, ord=np.inf))"
   ]
  },
  {
   "cell_type": "markdown",
   "metadata": {},
   "source": [
    "## Génération de nombres aléatoires"
   ]
  },
  {
   "cell_type": "code",
   "execution_count": 90,
   "metadata": {},
   "outputs": [
    {
     "name": "stdout",
     "output_type": "stream",
     "text": [
      "Random float [0,1) : [0.59865848 0.15601864 0.15599452 0.05808361 0.86617615]\n",
      "\n",
      "Random normale : [ 1.57921282  0.76743473 -0.46947439  0.54256004 -0.46341769]\n",
      "\n",
      "Random integers [0,10) : [9 5 8 0 9]\n"
     ]
    }
   ],
   "source": [
    "# Random float uniforme [0,1)\n",
    "arr_rand = np.random.rand(5)\n",
    "print(\"Random float [0,1) :\", arr_rand)\n",
    "\n",
    "# Random float normale (moy=0, std=1)\n",
    "arr_randn = np.random.randn(5)\n",
    "print(\"\\nRandom normale :\", arr_randn)\n",
    "\n",
    "# Random integers\n",
    "arr_int = np.random.randint(0, 10, size=5)\n",
    "print(\"\\nRandom integers [0,10) :\", arr_int)"
   ]
  },
  {
   "cell_type": "markdown",
   "metadata": {},
   "source": [
    "## Seed, permutations, échantillonnage"
   ]
  },
  {
   "cell_type": "code",
   "execution_count": 91,
   "metadata": {},
   "outputs": [
    {
     "name": "stdout",
     "output_type": "stream",
     "text": [
      "Tableau initial : [51 92 14 71 60 20 82 86 74 74]\n",
      "Permutation : [51 82 74 92 74 20 14 71 60 86]\n",
      "Échantillon : [20 14 86 82 74]\n"
     ]
    }
   ],
   "source": [
    "np.random.seed(42)  # Pour reproductibilité\n",
    "arr = np.random.randint(0, 100, size=10)\n",
    "print(\"Tableau initial :\", arr)\n",
    "\n",
    "# Permutation aléatoire\n",
    "perm = np.random.permutation(arr)\n",
    "print(\"Permutation :\", perm)\n",
    "\n",
    "# Échantillonnage aléatoire sans remise\n",
    "sample = np.random.choice(arr, size=5, replace=False)\n",
    "print(\"Échantillon :\", sample)"
   ]
  },
  {
   "cell_type": "markdown",
   "metadata": {},
   "source": [
    "## Simulation simple (marche aléatoire)"
   ]
  },
  {
   "cell_type": "code",
   "execution_count": 92,
   "metadata": {},
   "outputs": [
    {
     "name": "stdout",
     "output_type": "stream",
     "text": [
      "Pas : [-1 -1 -1  1  1  1  1  1 -1  1]\n",
      "Positions cumulées : [-1 -2 -3 -2 -1  0  1  2  1  2]\n"
     ]
    }
   ],
   "source": [
    "steps = np.random.choice([-1,1], size=10)  # 10 pas, -1 ou +1\n",
    "position = np.cumsum(steps)  # positions cumulées\n",
    "print(\"Pas :\", steps)\n",
    "print(\"Positions cumulées :\", position)"
   ]
  },
  {
   "cell_type": "markdown",
   "metadata": {},
   "source": [
    "## Broadcasting et opérations entre tableaux de formes différentes"
   ]
  },
  {
   "cell_type": "code",
   "execution_count": 93,
   "metadata": {},
   "outputs": [
    {
     "name": "stdout",
     "output_type": "stream",
     "text": [
      "A :\n",
      " [[1 2 3]\n",
      " [4 5 6]]\n",
      "B :\n",
      " [10 20 30]\n",
      "A + B avec broadcasting :\n",
      " [[11 22 33]\n",
      " [14 25 36]]\n",
      "\n",
      "A * [[1],[2]] avec broadcasting :\n",
      " [[ 1  2  3]\n",
      " [ 8 10 12]]\n"
     ]
    }
   ],
   "source": [
    "A = np.array([[1,2,3],[4,5,6]])\n",
    "B = np.array([10,20,30])\n",
    "\n",
    "# Addition avec broadcasting\n",
    "C = A + B\n",
    "print(\"A :\\n\", A)\n",
    "print(\"B :\\n\", B)\n",
    "print(\"A + B avec broadcasting :\\n\", C)\n",
    "\n",
    "# Multiplication\n",
    "D = A * np.array([[1],[2]])\n",
    "print(\"\\nA * [[1],[2]] avec broadcasting :\\n\", D)"
   ]
  },
  {
   "cell_type": "markdown",
   "metadata": {},
   "source": [
    "## Vectorisation avec np.vectorize"
   ]
  },
  {
   "cell_type": "code",
   "execution_count": 94,
   "metadata": {},
   "outputs": [
    {
     "name": "stdout",
     "output_type": "stream",
     "text": [
      "Fonction vectorisée : [ 4  9 16 25]\n"
     ]
    }
   ],
   "source": [
    "def f(x):\n",
    "    return x**2 + 2*x + 1\n",
    "\n",
    "f_vec = np.vectorize(f)  # vectorisation\n",
    "arr = np.array([1,2,3,4])\n",
    "print(\"Fonction vectorisée :\", f_vec(arr))"
   ]
  },
  {
   "cell_type": "markdown",
   "metadata": {},
   "source": [
    "## Masking et fancy indexing complexe"
   ]
  },
  {
   "cell_type": "code",
   "execution_count": 95,
   "metadata": {},
   "outputs": [
    {
     "name": "stdout",
     "output_type": "stream",
     "text": [
      "Masque : [ True False  True False  True False  True False  True  True]\n",
      "Éléments filtrés : [0 2 4 6 8 9]\n",
      "Éléments arr2[rows,cols] : [2 9]\n"
     ]
    }
   ],
   "source": [
    "arr = np.arange(10)\n",
    "mask = (arr % 2 == 0) | (arr > 7)\n",
    "print(\"Masque :\", mask)\n",
    "print(\"Éléments filtrés :\", arr[mask])\n",
    "\n",
    "# Fancy indexing 2D\n",
    "arr2 = np.array([[1,2,3],[4,5,6],[7,8,9]])\n",
    "rows = np.array([0,2])\n",
    "cols = np.array([1,2])\n",
    "print(\"Éléments arr2[rows,cols] :\", arr2[rows, cols])"
   ]
  },
  {
   "cell_type": "markdown",
   "metadata": {},
   "source": [
    "## Cheat Sheet NumPy"
   ]
  },
  {
   "cell_type": "code",
   "execution_count": 96,
   "metadata": {},
   "outputs": [
    {
     "name": "stdout",
     "output_type": "stream",
     "text": [
      "reshape 3x2:\n",
      " [[1 2]\n",
      " [3 4]\n",
      " [5 6]]\n",
      "reshape 6x1:\n",
      " [[1]\n",
      " [2]\n",
      " [3]\n",
      " [4]\n",
      " [5]\n",
      " [6]]\n"
     ]
    },
    {
     "data": {
      "text/plain": [
       "array([2, 4, 6])"
      ]
     },
     "execution_count": 96,
     "metadata": {},
     "output_type": "execute_result"
    }
   ],
   "source": [
    "import numpy as np\n",
    "\n",
    "# ==============================\n",
    "# 1. Création de tableaux\n",
    "# ==============================\n",
    "np.array([1,2,3])                # tableau 1D\n",
    "np.zeros((2,3))                  # tableau rempli de 0\n",
    "np.ones((3,2))                    # tableau rempli de 1\n",
    "np.full((2,2), 7)                # tableau rempli d'une valeur\n",
    "np.eye(3)                         # matrice identité\n",
    "np.arange(0,10,2)                 # similaire à range\n",
    "np.linspace(0,1,5)                # valeurs espacées uniformément\n",
    "\n",
    "# ==============================\n",
    "# 2. Indexation et slicing\n",
    "# ==============================\n",
    "arr = np.arange(10)\n",
    "arr[0], arr[-1]                   # indexation simple\n",
    "arr[2:6], arr[::2]                # slicing\n",
    "arr[arr>5]                         # masque booléen\n",
    "arr[[0,2,4]]                       # fancy indexing\n",
    "\n",
    "# ==============================\n",
    "# 3. Opérations élémentaires\n",
    "# ==============================\n",
    "a = np.array([1,2,3])\n",
    "b = np.array([10,20,30])\n",
    "a + b, a - b, a*b, b/a, a**2\n",
    "np.sqrt(b)\n",
    "np.sin(a), np.cos(a)\n",
    "(a > 1) & (b < 25)                 # comparaisons logiques\n",
    "\n",
    "# ==============================\n",
    "# 4. Statistiques\n",
    "# ==============================\n",
    "arr = np.array([[1,2,3],[4,5,6]])\n",
    "np.sum(arr), np.mean(arr), np.min(arr), np.max(arr)\n",
    "np.std(arr), np.var(arr)\n",
    "np.sum(arr, axis=0), np.sum(arr, axis=1)\n",
    "np.cumsum(arr), np.cumprod(arr)\n",
    "\n",
    "# ==============================\n",
    "# 5. Manipulation de forme\n",
    "# ==============================\n",
    "arr = np.array([[1,2,3],[4,5,6]])\n",
    "print(\"reshape 3x2:\\n\", arr.reshape((3,2)))\n",
    "print(\"reshape 6x1:\\n\", arr.reshape((6,1)))\n",
    "arr.flatten(), arr.ravel()\n",
    "arr.T                              # transpose\n",
    "np.vstack([a,b]), np.hstack([a,b])\n",
    "np.stack([a,b], axis=0)\n",
    "np.array_split(arr, 3)\n",
    "\n",
    "# ==============================\n",
    "# 6. Algèbre linéaire\n",
    "# ==============================\n",
    "A = np.array([[1,2],[3,4]])\n",
    "B = np.array([[5,6],[7,8]])\n",
    "A @ B, np.dot(A,B)\n",
    "np.linalg.inv(A)\n",
    "np.linalg.det(A)\n",
    "np.linalg.eig(A)\n",
    "np.trace(A)\n",
    "np.linalg.norm(A, ord=2), np.linalg.norm(A, ord=1), np.linalg.norm(A, ord=np.inf)\n",
    "\n",
    "# ==============================\n",
    "# 7. Random / simulations\n",
    "# ==============================\n",
    "np.random.rand(5), np.random.randn(5)\n",
    "np.random.randint(0,10,5)\n",
    "np.random.seed(42)\n",
    "np.random.permutation(arr)\n",
    "np.random.choice(arr.flatten(), size=5, replace=False)\n",
    "\n",
    "# ==============================\n",
    "# 8. Broadcasting et vectorisation\n",
    "# ==============================\n",
    "A = np.array([[1,2,3],[4,5,6]])  # 2x3\n",
    "A + np.array([10,20,30])         # broadcasting correct\n",
    "\n",
    "np.vectorize(lambda x: x**2 + 2*x +1)(arr)\n",
    "\n",
    "# ==============================\n",
    "# 9. Masking et fancy indexing avancé\n",
    "# ==============================\n",
    "mask = (arr % 2 == 0) | (arr > 7)\n",
    "arr[mask]\n"
   ]
  }
 ],
 "metadata": {
  "kernelspec": {
   "display_name": "Python 3",
   "language": "python",
   "name": "python3"
  },
  "language_info": {
   "codemirror_mode": {
    "name": "ipython",
    "version": 3
   },
   "file_extension": ".py",
   "mimetype": "text/x-python",
   "name": "python",
   "nbconvert_exporter": "python",
   "pygments_lexer": "ipython3",
   "version": "3.13.0"
  }
 },
 "nbformat": 4,
 "nbformat_minor": 2
}
