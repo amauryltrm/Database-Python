{
 "cells": [
  {
   "cell_type": "markdown",
   "metadata": {},
   "source": [
    "# Manipulation de fichier .csv"
   ]
  },
  {
   "cell_type": "code",
   "execution_count": 26,
   "metadata": {},
   "outputs": [
    {
     "name": "stdout",
     "output_type": "stream",
     "text": [
      "Fichier exemple.csv créé avec succès\n",
      "   id      nom   age      ville  revenu\n",
      "0   1    Alice  25.0      Paris    3200\n",
      "1   2      Bob  30.0       Lyon    4500\n",
      "2   3  Charlie  35.0  Marseille    5000\n",
      "3   4    Diana  40.0      Paris    3800\n",
      "4   5    Ethan   NaN      Lille    4200\n"
     ]
    }
   ],
   "source": [
    "\n",
    "import pandas as pd\n",
    "import numpy as np\n",
    "import csv\n",
    "\n",
    "# Créons un petit DataFrame pour générer un CSV\n",
    "data = {\n",
    "    \"id\": [1, 2, 3, 4, 5],\n",
    "    \"nom\": [\"Alice\", \"Bob\", \"Charlie\", \"Diana\", \"Ethan\"],\n",
    "    \"age\": [25, 30, 35, 40, np.nan],  # un NaN pour tester les valeurs manquantes\n",
    "    \"ville\": [\"Paris\", \"Lyon\", \"Marseille\", \"Paris\", \"Lille\"],\n",
    "    \"revenu\": [3200, 4500, 5000, 3800, 4200]\n",
    "}\n",
    "\n",
    "df = pd.DataFrame(data)\n",
    "\n",
    "# Sauvegarde en CSV\n",
    "df.to_csv(\"exemple.csv\", index=False)\n",
    "\n",
    "print(\"Fichier exemple.csv créé avec succès\")\n",
    "print(df)\n"
   ]
  },
  {
   "cell_type": "markdown",
   "metadata": {},
   "source": [
    "## Lire un CSV simple avec pandas"
   ]
  },
  {
   "cell_type": "code",
   "execution_count": 27,
   "metadata": {},
   "outputs": [
    {
     "name": "stdout",
     "output_type": "stream",
     "text": [
      "CSV chargé avec succès\n",
      "   id      nom   age      ville  revenu\n",
      "0   1    Alice  25.0      Paris    3200\n",
      "1   2      Bob  30.0       Lyon    4500\n",
      "2   3  Charlie  35.0  Marseille    5000\n",
      "3   4    Diana  40.0      Paris    3800\n",
      "4   5    Ethan   NaN      Lille    4200\n"
     ]
    }
   ],
   "source": [
    "df = pd.read_csv(\"exemple.csv\")\n",
    "\n",
    "print(\"CSV chargé avec succès\")\n",
    "print(df.head())  # affiche les 5 premières lignes"
   ]
  },
  {
   "cell_type": "markdown",
   "metadata": {},
   "source": [
    "## Écrire un CSV avec pandas"
   ]
  },
  {
   "cell_type": "code",
   "execution_count": 28,
   "metadata": {},
   "outputs": [
    {
     "name": "stdout",
     "output_type": "stream",
     "text": [
      "Données sauvegardées dans exemple_copie.csv\n"
     ]
    }
   ],
   "source": [
    "df.to_csv(\"exemple_copie.csv\", index=False)  # index=False pour ne pas sauvegarder l'index\n",
    "print(\"Données sauvegardées dans exemple_copie.csv\")"
   ]
  },
  {
   "cell_type": "markdown",
   "metadata": {},
   "source": [
    "## Lire un CSV avec le module standard csv"
   ]
  },
  {
   "cell_type": "code",
   "execution_count": 29,
   "metadata": {},
   "outputs": [
    {
     "name": "stdout",
     "output_type": "stream",
     "text": [
      "['id', 'nom', 'age', 'ville', 'revenu']\n",
      "['1', 'Alice', '25.0', 'Paris', '3200']\n",
      "['2', 'Bob', '30.0', 'Lyon', '4500']\n",
      "['3', 'Charlie', '35.0', 'Marseille', '5000']\n",
      "['4', 'Diana', '40.0', 'Paris', '3800']\n",
      "['5', 'Ethan', '', 'Lille', '4200']\n"
     ]
    }
   ],
   "source": [
    "with open(\"exemple.csv\", newline=\"\", encoding=\"utf-8\") as f:\n",
    "    reader = csv.reader(f)\n",
    "    for row in reader:\n",
    "        print(row)"
   ]
  },
  {
   "cell_type": "markdown",
   "metadata": {},
   "source": [
    "## Aperçu des données (head, tail, info, describe)"
   ]
  },
  {
   "cell_type": "code",
   "execution_count": 30,
   "metadata": {},
   "outputs": [
    {
     "name": "stdout",
     "output_type": "stream",
     "text": [
      "Afficher les 5 premières lignes\n",
      "   id      nom   age      ville  revenu\n",
      "0   1    Alice  25.0      Paris    3200\n",
      "1   2      Bob  30.0       Lyon    4500\n",
      "2   3  Charlie  35.0  Marseille    5000\n",
      "3   4    Diana  40.0      Paris    3800\n",
      "4   5    Ethan   NaN      Lille    4200\n",
      "\n",
      "Afficher les 3 dernières lignes\n",
      "   id      nom   age      ville  revenu\n",
      "2   3  Charlie  35.0  Marseille    5000\n",
      "3   4    Diana  40.0      Paris    3800\n",
      "4   5    Ethan   NaN      Lille    4200\n",
      "\n",
      "Informations sur le DataFrame\n",
      "<class 'pandas.core.frame.DataFrame'>\n",
      "RangeIndex: 5 entries, 0 to 4\n",
      "Data columns (total 5 columns):\n",
      " #   Column  Non-Null Count  Dtype  \n",
      "---  ------  --------------  -----  \n",
      " 0   id      5 non-null      int64  \n",
      " 1   nom     5 non-null      object \n",
      " 2   age     4 non-null      float64\n",
      " 3   ville   5 non-null      object \n",
      " 4   revenu  5 non-null      int64  \n",
      "dtypes: float64(1), int64(2), object(2)\n",
      "memory usage: 332.0+ bytes\n",
      "None\n",
      "\n",
      "Statistiques descriptives\n",
      "             id        age       revenu\n",
      "count  5.000000   4.000000     5.000000\n",
      "mean   3.000000  32.500000  4140.000000\n",
      "std    1.581139   6.454972   684.105255\n",
      "min    1.000000  25.000000  3200.000000\n",
      "25%    2.000000  28.750000  3800.000000\n",
      "50%    3.000000  32.500000  4200.000000\n",
      "75%    4.000000  36.250000  4500.000000\n",
      "max    5.000000  40.000000  5000.000000\n"
     ]
    }
   ],
   "source": [
    "df = pd.read_csv(\"exemple.csv\")\n",
    "\n",
    "print(\"Afficher les 5 premières lignes\")\n",
    "print(df.head())\n",
    "\n",
    "print(\"\\nAfficher les 3 dernières lignes\")\n",
    "print(df.tail(3))\n",
    "\n",
    "print(\"\\nInformations sur le DataFrame\")\n",
    "print(df.info())\n",
    "\n",
    "print(\"\\nStatistiques descriptives\")\n",
    "print(df.describe())  # seulement sur colonnes numériques"
   ]
  },
  {
   "cell_type": "markdown",
   "metadata": {},
   "source": [
    "## Noms de colonnes et dimensions"
   ]
  },
  {
   "cell_type": "code",
   "execution_count": 31,
   "metadata": {},
   "outputs": [
    {
     "name": "stdout",
     "output_type": "stream",
     "text": [
      "Nom des colonnes : ['id', 'nom', 'age', 'ville', 'revenu']\n",
      "Nombre de lignes et colonnes : (5, 5)\n",
      "\n",
      "Afficher uniquement la colonne 'nom'\n",
      "0      Alice\n",
      "1        Bob\n",
      "2    Charlie\n",
      "3      Diana\n",
      "4      Ethan\n",
      "Name: nom, dtype: object\n"
     ]
    }
   ],
   "source": [
    "print(\"Nom des colonnes :\", df.columns.tolist())\n",
    "print(\"Nombre de lignes et colonnes :\", df.shape)  # (n_rows, n_cols)\n",
    "\n",
    "print(\"\\nAfficher uniquement la colonne 'nom'\")\n",
    "print(df[\"nom\"].head())"
   ]
  },
  {
   "cell_type": "markdown",
   "metadata": {},
   "source": [
    "## Sélection de colonnes et de lignes (iloc, loc)"
   ]
  },
  {
   "cell_type": "code",
   "execution_count": 32,
   "metadata": {},
   "outputs": [
    {
     "name": "stdout",
     "output_type": "stream",
     "text": [
      "Sélection par indices (iloc)\n",
      "1\n",
      "   id      nom   age      ville  revenu\n",
      "0   1    Alice  25.0      Paris    3200\n",
      "1   2      Bob  30.0       Lyon    4500\n",
      "2   3  Charlie  35.0  Marseille    5000\n",
      "\n",
      "Sélection par noms (loc)\n",
      "Alice\n",
      "       nom   age\n",
      "0    Alice  25.0\n",
      "1      Bob  30.0\n",
      "2  Charlie  35.0\n",
      "\n",
      "Filtrage avec condition\n",
      "   id    nom   age  ville  revenu\n",
      "0   1  Alice  25.0  Paris    3200\n",
      "3   4  Diana  40.0  Paris    3800\n"
     ]
    }
   ],
   "source": [
    "print(\"Sélection par indices (iloc)\")\n",
    "print(df.iloc[0, 0])       # première ligne, première colonne\n",
    "print(df.iloc[0:3, :])     # les 3 premières lignes, toutes les colonnes\n",
    "\n",
    "print(\"\\nSélection par noms (loc)\")\n",
    "print(df.loc[0, \"nom\"])    # ligne 0, colonne \"nom\"\n",
    "print(df.loc[0:2, [\"nom\",\"age\"]])  # lignes 0 à 2, colonnes choisies\n",
    "\n",
    "print(\"\\nFiltrage avec condition\")\n",
    "print(df[df[\"ville\"] == \"Paris\"])   # toutes les lignes où ville = Paris"
   ]
  },
  {
   "cell_type": "markdown",
   "metadata": {},
   "source": [
    "## Gérer les valeurs manquantes"
   ]
  },
  {
   "cell_type": "code",
   "execution_count": 33,
   "metadata": {},
   "outputs": [
    {
     "name": "stdout",
     "output_type": "stream",
     "text": [
      "Valeurs manquantes par colonne :\n",
      "id        0\n",
      "nom       0\n",
      "age       1\n",
      "ville     0\n",
      "revenu    0\n",
      "dtype: int64\n",
      "\n",
      "Après suppression des NaN :\n",
      "   id      nom   age      ville  revenu\n",
      "0   1    Alice  25.0      Paris    3200\n",
      "1   2      Bob  30.0       Lyon    4500\n",
      "2   3  Charlie  35.0  Marseille    5000\n",
      "3   4    Diana  40.0      Paris    3800\n",
      "\n",
      "Après remplissage des NaN avec la moyenne :\n",
      "   id      nom   age      ville  revenu\n",
      "0   1    Alice  25.0      Paris    3200\n",
      "1   2      Bob  30.0       Lyon    4500\n",
      "2   3  Charlie  35.0  Marseille    5000\n",
      "3   4    Diana  40.0      Paris    3800\n",
      "4   5    Ethan  32.5      Lille    4200\n"
     ]
    }
   ],
   "source": [
    "df = pd.read_csv(\"exemple.csv\")\n",
    "\n",
    "print(\"Valeurs manquantes par colonne :\")\n",
    "print(df.isna().sum())\n",
    "\n",
    "# Supprimer les lignes avec valeurs manquantes\n",
    "df_drop = df.dropna()\n",
    "print(\"\\nAprès suppression des NaN :\")\n",
    "print(df_drop)\n",
    "\n",
    "# Remplacer les NaN par une valeur\n",
    "df_fill = df.fillna({\"age\": df[\"age\"].mean()})\n",
    "print(\"\\nAprès remplissage des NaN avec la moyenne :\")\n",
    "print(df_fill)"
   ]
  },
  {
   "cell_type": "markdown",
   "metadata": {},
   "source": [
    "## Renommer colonnes et index"
   ]
  },
  {
   "cell_type": "code",
   "execution_count": 34,
   "metadata": {},
   "outputs": [
    {
     "name": "stdout",
     "output_type": "stream",
     "text": [
      "   id   prenom   age      ville  salaire\n",
      "0   1    Alice  25.0      Paris     3200\n",
      "1   2      Bob  30.0       Lyon     4500\n",
      "2   3  Charlie  35.0  Marseille     5000\n",
      "3   4    Diana  40.0      Paris     3800\n",
      "4   5    Ethan   NaN      Lille     4200\n"
     ]
    }
   ],
   "source": [
    "df = pd.read_csv(\"exemple.csv\")\n",
    "\n",
    "df_renamed = df.rename(columns={\"nom\": \"prenom\", \"revenu\": \"salaire\"})\n",
    "print(df_renamed.head())"
   ]
  },
  {
   "cell_type": "markdown",
   "metadata": {},
   "source": [
    "## Supprimer ou réorganiser colonnes"
   ]
  },
  {
   "cell_type": "code",
   "execution_count": 35,
   "metadata": {},
   "outputs": [
    {
     "name": "stdout",
     "output_type": "stream",
     "text": [
      "Sans colonne 'ville':\n",
      "   id      nom   age  revenu\n",
      "0   1    Alice  25.0    3200\n",
      "1   2      Bob  30.0    4500\n",
      "2   3  Charlie  35.0    5000\n",
      "3   4    Diana  40.0    3800\n",
      "4   5    Ethan   NaN    4200\n",
      "\n",
      "Colonnes réorganisées :\n",
      "       nom   age      ville  revenu  id\n",
      "0    Alice  25.0      Paris    3200   1\n",
      "1      Bob  30.0       Lyon    4500   2\n",
      "2  Charlie  35.0  Marseille    5000   3\n",
      "3    Diana  40.0      Paris    3800   4\n",
      "4    Ethan   NaN      Lille    4200   5\n"
     ]
    }
   ],
   "source": [
    "df = pd.read_csv(\"exemple.csv\")\n",
    "\n",
    "# Supprimer une colonne\n",
    "df_drop = df.drop(columns=[\"ville\"])\n",
    "print(\"Sans colonne 'ville':\")\n",
    "print(df_drop.head())\n",
    "\n",
    "# Réorganiser les colonnes\n",
    "colonnes = [\"nom\", \"age\", \"ville\", \"revenu\", \"id\"]\n",
    "df_reordered = df[colonnes]\n",
    "print(\"\\nColonnes réorganisées :\")\n",
    "print(df_reordered.head())"
   ]
  },
  {
   "cell_type": "markdown",
   "metadata": {},
   "source": [
    "## Trier les données (sort_values)"
   ]
  },
  {
   "cell_type": "code",
   "execution_count": 36,
   "metadata": {},
   "outputs": [
    {
     "name": "stdout",
     "output_type": "stream",
     "text": [
      "Tri par âge croissant :\n",
      "   id      nom   age      ville  revenu\n",
      "0   1    Alice  25.0      Paris    3200\n",
      "1   2      Bob  30.0       Lyon    4500\n",
      "2   3  Charlie  35.0  Marseille    5000\n",
      "3   4    Diana  40.0      Paris    3800\n",
      "4   5    Ethan   NaN      Lille    4200\n",
      "\n",
      "Tri par revenu décroissant :\n",
      "   id      nom   age      ville  revenu\n",
      "2   3  Charlie  35.0  Marseille    5000\n",
      "1   2      Bob  30.0       Lyon    4500\n",
      "4   5    Ethan   NaN      Lille    4200\n",
      "3   4    Diana  40.0      Paris    3800\n",
      "0   1    Alice  25.0      Paris    3200\n",
      "\n",
      "Tri par ville puis par âge :\n",
      "   id      nom   age      ville  revenu\n",
      "4   5    Ethan   NaN      Lille    4200\n",
      "1   2      Bob  30.0       Lyon    4500\n",
      "2   3  Charlie  35.0  Marseille    5000\n",
      "0   1    Alice  25.0      Paris    3200\n",
      "3   4    Diana  40.0      Paris    3800\n"
     ]
    }
   ],
   "source": [
    "df = pd.read_csv(\"exemple.csv\")\n",
    "\n",
    "# Trier par âge croissant\n",
    "print(\"Tri par âge croissant :\")\n",
    "print(df.sort_values(\"age\"))\n",
    "\n",
    "# Trier par revenu décroissant\n",
    "print(\"\\nTri par revenu décroissant :\")\n",
    "print(df.sort_values(\"revenu\", ascending=False))\n",
    "\n",
    "# Trier par plusieurs colonnes\n",
    "print(\"\\nTri par ville puis par âge :\")\n",
    "print(df.sort_values([\"ville\", \"age\"]))"
   ]
  },
  {
   "cell_type": "markdown",
   "metadata": {},
   "source": [
    "## Filtrer avec conditions"
   ]
  },
  {
   "cell_type": "code",
   "execution_count": 37,
   "metadata": {},
   "outputs": [
    {
     "name": "stdout",
     "output_type": "stream",
     "text": [
      "Plus de 30 ans :\n",
      "   id      nom   age      ville  revenu\n",
      "2   3  Charlie  35.0  Marseille    5000\n",
      "3   4    Diana  40.0      Paris    3800\n",
      "\n",
      "Ville = Paris :\n",
      "   id    nom   age  ville  revenu\n",
      "0   1  Alice  25.0  Paris    3200\n",
      "3   4  Diana  40.0  Paris    3800\n",
      "\n",
      "Age > 30 ET revenu > 4000 :\n",
      "   id      nom   age      ville  revenu\n",
      "2   3  Charlie  35.0  Marseille    5000\n",
      "\n",
      "Ville = Paris OU Lyon :\n",
      "   id    nom   age  ville  revenu\n",
      "0   1  Alice  25.0  Paris    3200\n",
      "1   2    Bob  30.0   Lyon    4500\n",
      "3   4  Diana  40.0  Paris    3800\n"
     ]
    }
   ],
   "source": [
    "df = pd.read_csv(\"exemple.csv\")\n",
    "\n",
    "# Sélectionner les personnes de plus de 30 ans\n",
    "print(\"Plus de 30 ans :\")\n",
    "print(df[df[\"age\"] > 30])\n",
    "\n",
    "# Sélectionner les personnes vivant à Paris\n",
    "print(\"\\nVille = Paris :\")\n",
    "print(df[df[\"ville\"] == \"Paris\"])\n",
    "\n",
    "# Combiner plusieurs conditions (ET / OU)\n",
    "print(\"\\nAge > 30 ET revenu > 4000 :\")\n",
    "print(df[(df[\"age\"] > 30) & (df[\"revenu\"] > 4000)])\n",
    "\n",
    "print(\"\\nVille = Paris OU Lyon :\")\n",
    "print(df[df[\"ville\"].isin([\"Paris\", \"Lyon\"])])"
   ]
  },
  {
   "cell_type": "markdown",
   "metadata": {},
   "source": [
    "## Ajouter et modifier colonnes"
   ]
  },
  {
   "cell_type": "code",
   "execution_count": 38,
   "metadata": {},
   "outputs": [
    {
     "name": "stdout",
     "output_type": "stream",
     "text": [
      "Avec revenu annuel :\n",
      "   id      nom   age      ville  revenu  revenu_annuel\n",
      "0   1    Alice  25.0      Paris    3200          38400\n",
      "1   2      Bob  30.0       Lyon    4500          54000\n",
      "2   3  Charlie  35.0  Marseille    5000          60000\n",
      "3   4    Diana  40.0      Paris    3800          45600\n",
      "4   5    Ethan   NaN      Lille    4200          50400\n",
      "\n",
      "Avec noms en majuscules :\n",
      "   id      nom   age      ville  revenu  revenu_annuel\n",
      "0   1    ALICE  25.0      Paris    3200          38400\n",
      "1   2      BOB  30.0       Lyon    4500          54000\n",
      "2   3  CHARLIE  35.0  Marseille    5000          60000\n",
      "3   4    DIANA  40.0      Paris    3800          45600\n",
      "4   5    ETHAN   NaN      Lille    4200          50400\n",
      "\n",
      "Avec catégorie d'âge :\n",
      "   id      nom   age      ville  revenu  revenu_annuel categorie_age\n",
      "0   1    ALICE  25.0      Paris    3200          38400        junior\n",
      "1   2      BOB  30.0       Lyon    4500          54000        junior\n",
      "2   3  CHARLIE  35.0  Marseille    5000          60000        senior\n",
      "3   4    DIANA  40.0      Paris    3800          45600        senior\n",
      "4   5    ETHAN   NaN      Lille    4200          50400        junior\n"
     ]
    }
   ],
   "source": [
    "df = pd.read_csv(\"exemple.csv\")\n",
    "\n",
    "# Nouvelle colonne : revenu annuel\n",
    "df[\"revenu_annuel\"] = df[\"revenu\"] * 12\n",
    "print(\"Avec revenu annuel :\")\n",
    "print(df.head())\n",
    "\n",
    "# Transformer une colonne (mettre les noms en majuscules)\n",
    "df[\"nom\"] = df[\"nom\"].str.upper()\n",
    "print(\"\\nAvec noms en majuscules :\")\n",
    "print(df.head())\n",
    "\n",
    "# Ajouter une colonne calculée conditionnelle\n",
    "df[\"categorie_age\"] = np.where(df[\"age\"] >= 35, \"senior\", \"junior\")\n",
    "print(\"\\nAvec catégorie d'âge :\")\n",
    "print(df.head())"
   ]
  },
  {
   "cell_type": "markdown",
   "metadata": {},
   "source": [
    "## GroupBy et agrégation"
   ]
  },
  {
   "cell_type": "code",
   "execution_count": 39,
   "metadata": {},
   "outputs": [
    {
     "name": "stdout",
     "output_type": "stream",
     "text": [
      "Moyenne du revenu par ville :\n",
      "ville\n",
      "Lille        4200.0\n",
      "Lyon         4500.0\n",
      "Marseille    5000.0\n",
      "Paris        3500.0\n",
      "Name: revenu, dtype: float64\n",
      "\n",
      "Statistiques par ville :\n",
      "            age  revenu            \n",
      "           mean    mean   max   min\n",
      "ville                              \n",
      "Lille       NaN  4200.0  4200  4200\n",
      "Lyon       30.0  4500.0  4500  4500\n",
      "Marseille  35.0  5000.0  5000  5000\n",
      "Paris      32.5  3500.0  3800  3200\n"
     ]
    }
   ],
   "source": [
    "df = pd.read_csv(\"exemple.csv\")\n",
    "\n",
    "# Moyenne du revenu par ville\n",
    "moyenne_revenu = df.groupby(\"ville\")[\"revenu\"].mean()\n",
    "print(\"Moyenne du revenu par ville :\")\n",
    "print(moyenne_revenu)\n",
    "\n",
    "# Plusieurs fonctions d'agrégation\n",
    "stats = df.groupby(\"ville\").agg({\n",
    "    \"age\": \"mean\",\n",
    "    \"revenu\": [\"mean\", \"max\", \"min\"]\n",
    "})\n",
    "print(\"\\nStatistiques par ville :\")\n",
    "print(stats)"
   ]
  },
  {
   "cell_type": "markdown",
   "metadata": {},
   "source": [
    "## Tableaux croisés (pivot_table)"
   ]
  },
  {
   "cell_type": "code",
   "execution_count": 40,
   "metadata": {},
   "outputs": [
    {
     "name": "stdout",
     "output_type": "stream",
     "text": [
      "Tableau croisé (pivot) :\n",
      "id              1       2       3       4       5\n",
      "ville                                            \n",
      "Lille         0.0     0.0     0.0     0.0  4200.0\n",
      "Lyon          0.0  4500.0     0.0     0.0     0.0\n",
      "Marseille     0.0     0.0  5000.0     0.0     0.0\n",
      "Paris      3200.0     0.0     0.0  3800.0     0.0\n"
     ]
    }
   ],
   "source": [
    "df = pd.read_csv(\"exemple.csv\")\n",
    "\n",
    "pivot = pd.pivot_table(\n",
    "    df,\n",
    "    values=\"revenu\",       # ce que l'on calcule\n",
    "    index=\"ville\",         # lignes\n",
    "    columns=\"categorie_age\" if \"categorie_age\" in df.columns else \"id\",  # colonnes\n",
    "    aggfunc=\"mean\",        # fonction d'agrégation\n",
    "    fill_value=0           # remplir les NaN\n",
    ")\n",
    "print(\"Tableau croisé (pivot) :\")\n",
    "print(pivot)"
   ]
  },
  {
   "cell_type": "markdown",
   "metadata": {},
   "source": [
    "## Détection et suppression des doublons"
   ]
  },
  {
   "cell_type": "code",
   "execution_count": 41,
   "metadata": {},
   "outputs": [
    {
     "name": "stdout",
     "output_type": "stream",
     "text": [
      "Avec doublon ajouté :\n",
      "   id      nom   age      ville  revenu\n",
      "0   1    Alice  25.0      Paris    3200\n",
      "1   2      Bob  30.0       Lyon    4500\n",
      "2   3  Charlie  35.0  Marseille    5000\n",
      "3   4    Diana  40.0      Paris    3800\n",
      "4   5    Ethan   NaN      Lille    4200\n",
      "5   1    Alice  25.0      Paris    3200\n",
      "\n",
      "Doublons détectés :\n",
      "0    False\n",
      "1    False\n",
      "2    False\n",
      "3    False\n",
      "4    False\n",
      "5     True\n",
      "dtype: bool\n",
      "\n",
      "Après suppression des doublons :\n",
      "   id      nom   age      ville  revenu\n",
      "0   1    Alice  25.0      Paris    3200\n",
      "1   2      Bob  30.0       Lyon    4500\n",
      "2   3  Charlie  35.0  Marseille    5000\n",
      "3   4    Diana  40.0      Paris    3800\n",
      "4   5    Ethan   NaN      Lille    4200\n"
     ]
    }
   ],
   "source": [
    "df = pd.read_csv(\"exemple.csv\")\n",
    "\n",
    "# Ajouter un doublon pour l'exemple\n",
    "df = pd.concat([df, df.iloc[[0]]], ignore_index=True)\n",
    "print(\"Avec doublon ajouté :\")\n",
    "print(df)\n",
    "\n",
    "# Détecter les doublons\n",
    "print(\"\\nDoublons détectés :\")\n",
    "print(df.duplicated())\n",
    "\n",
    "# Supprimer les doublons\n",
    "df_unique = df.drop_duplicates()\n",
    "print(\"\\nAprès suppression des doublons :\")\n",
    "print(df_unique)"
   ]
  },
  {
   "cell_type": "markdown",
   "metadata": {},
   "source": [
    "## Fusionner deux CSV (merge, join)"
   ]
  },
  {
   "cell_type": "code",
   "execution_count": 42,
   "metadata": {},
   "outputs": [
    {
     "name": "stdout",
     "output_type": "stream",
     "text": [
      "Inner join sur 'id' :\n",
      "   id      nom   age      ville  revenu     poste\n",
      "0   1    Alice  25.0      Paris    3200       Dev\n",
      "1   2      Bob  30.0       Lyon    4500  Analyste\n",
      "2   3  Charlie  35.0  Marseille    5000   Manager\n",
      "\n",
      "Outer join sur 'id' :\n",
      "   id      nom   age      ville  revenu     poste\n",
      "0   1    Alice  25.0      Paris  3200.0       Dev\n",
      "1   2      Bob  30.0       Lyon  4500.0  Analyste\n",
      "2   3  Charlie  35.0  Marseille  5000.0   Manager\n",
      "3   4    Diana  40.0      Paris  3800.0       NaN\n",
      "4   5    Ethan   NaN      Lille  4200.0       NaN\n",
      "5   6      NaN   NaN        NaN     NaN  Designer\n",
      "\n",
      "Left join sur 'id' :\n",
      "   id      nom   age      ville  revenu     poste\n",
      "0   1    Alice  25.0      Paris    3200       Dev\n",
      "1   2      Bob  30.0       Lyon    4500  Analyste\n",
      "2   3  Charlie  35.0  Marseille    5000   Manager\n",
      "3   4    Diana  40.0      Paris    3800       NaN\n",
      "4   5    Ethan   NaN      Lille    4200       NaN\n"
     ]
    }
   ],
   "source": [
    "# Créons un deuxième DataFrame exemple\n",
    "df2 = pd.DataFrame({\n",
    "    \"id\": [1, 2, 3, 6],\n",
    "    \"poste\": [\"Dev\", \"Analyste\", \"Manager\", \"Designer\"]\n",
    "})\n",
    "\n",
    "df1 = pd.read_csv(\"exemple.csv\")\n",
    "\n",
    "# Jointure interne (inner join) sur 'id'\n",
    "df_inner = pd.merge(df1, df2, on=\"id\", how=\"inner\")\n",
    "print(\"Inner join sur 'id' :\")\n",
    "print(df_inner)\n",
    "\n",
    "# Jointure externe (outer join)\n",
    "df_outer = pd.merge(df1, df2, on=\"id\", how=\"outer\")\n",
    "print(\"\\nOuter join sur 'id' :\")\n",
    "print(df_outer)\n",
    "\n",
    "# Jointure gauche (left join)\n",
    "df_left = pd.merge(df1, df2, on=\"id\", how=\"left\")\n",
    "print(\"\\nLeft join sur 'id' :\")\n",
    "print(df_left)"
   ]
  },
  {
   "cell_type": "markdown",
   "metadata": {},
   "source": [
    "## Concaténation verticale / horizontale (concat)"
   ]
  },
  {
   "cell_type": "code",
   "execution_count": 43,
   "metadata": {},
   "outputs": [
    {
     "name": "stdout",
     "output_type": "stream",
     "text": [
      "Concaténation verticale :\n",
      "   id      nom   age      ville  revenu\n",
      "0   1    Alice  25.0      Paris    3200\n",
      "1   2      Bob  30.0       Lyon    4500\n",
      "2   3  Charlie  35.0  Marseille    5000\n",
      "3   4    Diana  40.0      Paris    3800\n",
      "4   5    Ethan   NaN      Lille    4200\n",
      "5   6    Fiona  28.0       Nice    4000\n",
      "6   7   George  33.0   Bordeaux    3700\n",
      "\n",
      "Concaténation horizontale :\n",
      "   id      nom   age      ville  revenu     nom  revenu\n",
      "0   1    Alice  25.0      Paris    3200   Fiona  4000.0\n",
      "1   2      Bob  30.0       Lyon    4500  George  3700.0\n",
      "2   3  Charlie  35.0  Marseille    5000     NaN     NaN\n",
      "3   4    Diana  40.0      Paris    3800     NaN     NaN\n",
      "4   5    Ethan   NaN      Lille    4200     NaN     NaN\n"
     ]
    }
   ],
   "source": [
    "df1 = pd.read_csv(\"exemple.csv\")\n",
    "df2 = pd.DataFrame({\n",
    "    \"id\": [6, 7],\n",
    "    \"nom\": [\"Fiona\", \"George\"],\n",
    "    \"age\": [28, 33],\n",
    "    \"ville\": [\"Nice\", \"Bordeaux\"],\n",
    "    \"revenu\": [4000, 3700]\n",
    "})\n",
    "\n",
    "# Concaténation verticale (ajout de lignes)\n",
    "df_vert = pd.concat([df1, df2], ignore_index=True)\n",
    "print(\"Concaténation verticale :\")\n",
    "print(df_vert)\n",
    "\n",
    "# Concaténation horizontale (ajout de colonnes)\n",
    "df_horiz = pd.concat([df1.reset_index(drop=True), df2[[\"nom\",\"revenu\"]].reset_index(drop=True)], axis=1)\n",
    "print(\"\\nConcaténation horizontale :\")\n",
    "print(df_horiz)"
   ]
  },
  {
   "cell_type": "markdown",
   "metadata": {},
   "source": [
    "## Lire un gros CSV par morceaux (chunksize)"
   ]
  },
  {
   "cell_type": "code",
   "execution_count": 44,
   "metadata": {},
   "outputs": [
    {
     "name": "stdout",
     "output_type": "stream",
     "text": [
      "Chunk 1\n",
      "   id    valeur\n",
      "0   1 -1.459402\n",
      "1   2 -0.568278\n",
      "2   3  0.471286\n",
      "3   4  2.338152\n",
      "4   5 -1.265685\n",
      "Chunk 2\n",
      "      id    valeur\n",
      "200  201 -3.039585\n",
      "201  202  0.528412\n",
      "202  203  0.476264\n",
      "203  204  1.518450\n",
      "204  205  2.434461\n",
      "Chunk 3\n",
      "      id    valeur\n",
      "400  401  1.121222\n",
      "401  402  0.991180\n",
      "402  403  0.896026\n",
      "403  404  0.791387\n",
      "404  405  0.648271\n",
      "Chunk 4\n",
      "      id    valeur\n",
      "600  601 -0.626187\n",
      "601  602 -1.944009\n",
      "602  603  0.684256\n",
      "603  604  2.358834\n",
      "604  605 -0.693727\n",
      "Chunk 5\n",
      "      id    valeur\n",
      "800  801  0.978303\n",
      "801  802 -0.703202\n",
      "802  803  0.905783\n",
      "803  804 -0.207351\n",
      "804  805 -1.251714\n"
     ]
    }
   ],
   "source": [
    "# Créons un CSV un peu plus grand pour l'exemple\n",
    "df_large = pd.DataFrame({\n",
    "    \"id\": range(1, 1001),\n",
    "    \"valeur\": np.random.randn(1000)\n",
    "})\n",
    "df_large.to_csv(\"large.csv\", index=False)\n",
    "\n",
    "# Lire par chunks de 200 lignes\n",
    "chunk_iter = pd.read_csv(\"large.csv\", chunksize=200)\n",
    "\n",
    "for i, chunk in enumerate(chunk_iter):\n",
    "    print(f\"Chunk {i+1}\")\n",
    "    print(chunk.head())\n",
    "    # Ici on pourrait traiter le chunk avant de passer au suivant"
   ]
  },
  {
   "cell_type": "markdown",
   "metadata": {},
   "source": [
    "## Export en d’autres formats (Excel, JSON, SQL)"
   ]
  },
  {
   "cell_type": "code",
   "execution_count": 45,
   "metadata": {},
   "outputs": [
    {
     "name": "stdout",
     "output_type": "stream",
     "text": [
      "Export terminé\n"
     ]
    }
   ],
   "source": [
    "df = pd.read_csv(\"exemple.csv\")\n",
    "\n",
    "# Excel\n",
    "df.to_excel(\"exemple.xlsx\", index=False)\n",
    "\n",
    "# JSON\n",
    "df.to_json(\"exemple.json\", orient=\"records\", lines=True)\n",
    "\n",
    "print(\"Export terminé\")"
   ]
  },
  {
   "cell_type": "markdown",
   "metadata": {},
   "source": [
    "## Dates et heures (to_datetime, resample)"
   ]
  },
  {
   "cell_type": "code",
   "execution_count": 46,
   "metadata": {},
   "outputs": [
    {
     "name": "stdout",
     "output_type": "stream",
     "text": [
      "date      datetime64[ns]\n",
      "valeur             int32\n",
      "dtype: object\n",
      "\n",
      "Resample tous les 3 jours :\n",
      "            valeur\n",
      "date              \n",
      "2025-01-01     191\n",
      "2025-01-04     136\n",
      "2025-01-07     117\n",
      "2025-01-10      66\n"
     ]
    }
   ],
   "source": [
    "# Créons un DataFrame avec dates\n",
    "df_dates = pd.DataFrame({\n",
    "    \"date\": pd.date_range(\"2025-01-01\", periods=10, freq=\"D\"),\n",
    "    \"valeur\": np.random.randint(1, 100, 10)\n",
    "})\n",
    "\n",
    "# Convertir en datetime (souvent nécessaire lors de lecture CSV)\n",
    "df_dates[\"date\"] = pd.to_datetime(df_dates[\"date\"])\n",
    "print(df_dates.dtypes)\n",
    "\n",
    "# Indexer par date et faire un resample\n",
    "df_dates.set_index(\"date\", inplace=True)\n",
    "df_resample = df_dates.resample(\"3D\").sum()  # somme tous les 3 jours\n",
    "print(\"\\nResample tous les 3 jours :\")\n",
    "print(df_resample)"
   ]
  },
  {
   "cell_type": "markdown",
   "metadata": {},
   "source": [
    "## Index multi-niveaux (MultiIndex)"
   ]
  },
  {
   "cell_type": "code",
   "execution_count": 47,
   "metadata": {},
   "outputs": [
    {
     "name": "stdout",
     "output_type": "stream",
     "text": [
      "DataFrame avec MultiIndex :\n",
      "                     revenu\n",
      "ville categorie_age        \n",
      "Paris junior           3200\n",
      "      senior           4500\n",
      "Lyon  junior           3000\n",
      "      senior           4000\n",
      "\n",
      "Sélection Paris :\n",
      "               revenu\n",
      "categorie_age        \n",
      "junior           3200\n",
      "senior           4500\n"
     ]
    }
   ],
   "source": [
    "df_multi = pd.DataFrame({\n",
    "    \"ville\": [\"Paris\",\"Paris\",\"Lyon\",\"Lyon\"],\n",
    "    \"categorie_age\": [\"junior\",\"senior\",\"junior\",\"senior\"],\n",
    "    \"revenu\": [3200, 4500, 3000, 4000]\n",
    "})\n",
    "\n",
    "df_multi.set_index([\"ville\",\"categorie_age\"], inplace=True)\n",
    "print(\"DataFrame avec MultiIndex :\")\n",
    "print(df_multi)\n",
    "\n",
    "# Sélection par niveau\n",
    "print(\"\\nSélection Paris :\")\n",
    "print(df_multi.loc[\"Paris\"])"
   ]
  },
  {
   "cell_type": "markdown",
   "metadata": {},
   "source": [
    "## Histogrammes et courbes directement depuis pandas"
   ]
  },
  {
   "cell_type": "code",
   "execution_count": 48,
   "metadata": {},
   "outputs": [
    {
     "data": {
      "text/plain": [
       "<Axes: title={'center': 'Scatter Age vs Revenu'}, xlabel='age', ylabel='revenu'>"
      ]
     },
     "execution_count": 48,
     "metadata": {},
     "output_type": "execute_result"
    },
    {
     "data": {
      "image/png": "[encoded data removed]",
      "text/plain": [
       "<Figure size 640x480 with 1 Axes>"
      ]
     },
     "metadata": {},
     "output_type": "display_data"
    },
    {
     "data": {
      "image/png": "[encoded data removed]",
      "text/plain": [
       "<Figure size 640x480 with 1 Axes>"
      ]
     },
     "metadata": {},
     "output_type": "display_data"
    },
    {
     "data": {
      "image/png": "[encoded data removed]",
      "text/plain": [
       "<Figure size 640x480 with 1 Axes>"
      ]
     },
     "metadata": {},
     "output_type": "display_data"
    }
   ],
   "source": [
    "df = pd.read_csv(\"exemple.csv\")\n",
    "\n",
    "# Histogramme du revenu\n",
    "df[\"revenu\"].plot(kind=\"hist\", bins=5, color=\"skyblue\", edgecolor=\"black\", title=\"Histogramme du revenu\")\n",
    "\n",
    "# Courbe simple : âge vs revenu\n",
    "df.plot(x=\"age\", y=\"revenu\", kind=\"line\", marker=\"o\", title=\"Age vs Revenu\")\n",
    "\n",
    "# Scatter plot\n",
    "df.plot(x=\"age\", y=\"revenu\", kind=\"scatter\", color=\"red\", title=\"Scatter Age vs Revenu\")"
   ]
  },
  {
   "cell_type": "markdown",
   "metadata": {},
   "source": [
    "## Heatmap de corrélation avec seaborn"
   ]
  },
  {
   "cell_type": "code",
   "execution_count": 49,
   "metadata": {},
   "outputs": [
    {
     "data": {
      "image/png": "[encoded data removed]",
      "text/plain": [
       "<Figure size 600x400 with 2 Axes>"
      ]
     },
     "metadata": {},
     "output_type": "display_data"
    }
   ],
   "source": [
    "import seaborn as sns\n",
    "import matplotlib.pyplot as plt\n",
    "\n",
    "df = pd.read_csv(\"exemple.csv\")\n",
    "\n",
    "# Calcul de la corrélation\n",
    "corr = df.corr(numeric_only=True)  # uniquement les colonnes numériques\n",
    "\n",
    "# Heatmap\n",
    "plt.figure(figsize=(6,4))\n",
    "sns.heatmap(corr, annot=True, cmap=\"coolwarm\", fmt=\".2f\")\n",
    "plt.title(\"Heatmap de corrélation\")\n",
    "plt.show()"
   ]
  },
  {
   "cell_type": "markdown",
   "metadata": {},
   "source": [
    "## Cheat Sheet CSV / pandas"
   ]
  },
  {
   "cell_type": "code",
   "execution_count": 50,
   "metadata": {},
   "outputs": [
    {
     "name": "stdout",
     "output_type": "stream",
     "text": [
      "DataFrame initial:\n",
      "    id      nom  age  revenu      ville\n",
      "0   1    Alice   25    3200      Paris\n",
      "1   2      Bob   30    4500       Lyon\n",
      "2   3  Charlie   35    5000  Marseille\n",
      "\n",
      "Lecture CSV:\n",
      "    id      nom  age  revenu      ville\n",
      "0   1    Alice   25    3200      Paris\n",
      "1   2      Bob   30    4500       Lyon\n",
      "2   3  Charlie   35    5000  Marseille\n",
      "\n",
      "Premières lignes:\n",
      "    id      nom  age  revenu      ville\n",
      "0   1    Alice   25    3200      Paris\n",
      "1   2      Bob   30    4500       Lyon\n",
      "2   3  Charlie   35    5000  Marseille\n",
      "\n",
      "Dernières lignes:\n",
      "    id      nom  age  revenu      ville\n",
      "0   1    Alice   25    3200      Paris\n",
      "1   2      Bob   30    4500       Lyon\n",
      "2   3  Charlie   35    5000  Marseille\n",
      "\n",
      "Info colonnes:\n",
      "\n",
      "<class 'pandas.core.frame.DataFrame'>\n",
      "RangeIndex: 3 entries, 0 to 2\n",
      "Data columns (total 5 columns):\n",
      " #   Column  Non-Null Count  Dtype \n",
      "---  ------  --------------  ----- \n",
      " 0   id      3 non-null      int64 \n",
      " 1   nom     3 non-null      object\n",
      " 2   age     3 non-null      int64 \n",
      " 3   revenu  3 non-null      int64 \n",
      " 4   ville   3 non-null      object\n",
      "dtypes: int64(3), object(2)\n",
      "memory usage: 252.0+ bytes\n",
      "\n",
      "Statistiques:\n",
      "         id   age       revenu\n",
      "count  3.0   3.0     3.000000\n",
      "mean   2.0  30.0  4233.333333\n",
      "std    1.0   5.0   929.157324\n",
      "min    1.0  25.0  3200.000000\n",
      "25%    1.5  27.5  3850.000000\n",
      "50%    2.0  30.0  4500.000000\n",
      "75%    2.5  32.5  4750.000000\n",
      "max    3.0  35.0  5000.000000\n",
      "\n",
      "Dimensions: (3, 5)\n",
      "\n",
      "Colonnes: Index(['id', 'nom', 'age', 'revenu', 'ville'], dtype='object')\n",
      "\n",
      "Colonne 'nom':\n",
      " 0      Alice\n",
      "1        Bob\n",
      "2    Charlie\n",
      "Name: nom, dtype: object\n",
      "\n",
      "Colonnes 'nom' et 'age':\n",
      "        nom  age\n",
      "0    Alice   25\n",
      "1      Bob   30\n",
      "2  Charlie   35\n",
      "\n",
      "Cellule (0,1): Alice\n",
      "\n",
      "Cellule label (0,'nom'): Alice\n",
      "\n",
      "Filtrer age>30:\n",
      "    id      nom  age  revenu      ville\n",
      "2   3  Charlie   35    5000  Marseille\n",
      "\n",
      "Filtrer villes Paris ou Lyon:\n",
      "    id    nom  age  revenu  ville\n",
      "0   1  Alice   25    3200  Paris\n",
      "1   2    Bob   30    4500   Lyon\n",
      "\n",
      "Supprimer NaN:\n",
      "    id      nom  age  revenu      ville\n",
      "0   1    Alice   25    3200      Paris\n",
      "1   2      Bob   30    4500       Lyon\n",
      "2   3  Charlie   35    5000  Marseille\n",
      "\n",
      "Remplir NaN par 0:\n",
      "    id      nom  age  revenu      ville\n",
      "0   1    Alice   25    3200      Paris\n",
      "1   2      Bob   30    4500       Lyon\n",
      "2   3  Charlie   35    5000  Marseille\n",
      "\n",
      "Renommer colonne nom -> prenom:\n",
      "    id   prenom  age  revenu      ville\n",
      "0   1    Alice   25    3200      Paris\n",
      "1   2      Bob   30    4500       Lyon\n",
      "2   3  Charlie   35    5000  Marseille\n",
      "\n",
      "Supprimer colonne 'revenu':\n",
      "    id      nom  age      ville\n",
      "0   1    Alice   25      Paris\n",
      "1   2      Bob   30       Lyon\n",
      "2   3  Charlie   35  Marseille\n",
      "\n",
      "Remplir NaN dans 'age' par la moyenne:\n",
      " 0    25\n",
      "1    30\n",
      "2    35\n",
      "Name: age, dtype: int64\n",
      "\n",
      "Tri par age:\n",
      "    id      nom  age  revenu      ville\n",
      "0   1    Alice   25    3200      Paris\n",
      "1   2      Bob   30    4500       Lyon\n",
      "2   3  Charlie   35    5000  Marseille\n",
      "\n",
      "Tri par ville puis age (desc):\n",
      "    id      nom  age  revenu      ville\n",
      "1   2      Bob   30    4500       Lyon\n",
      "2   3  Charlie   35    5000  Marseille\n",
      "0   1    Alice   25    3200      Paris\n",
      "\n",
      "DataFrame avec revenus annuels et catégorie:\n",
      "    id      nom  age  revenu      ville  revenu_annuel categorie\n",
      "0   1    Alice   25    3200      Paris          38400    junior\n",
      "1   2      Bob   30    4500       Lyon          54000    junior\n",
      "2   3  Charlie   35    5000  Marseille          60000    senior\n",
      "\n",
      "Moyenne revenu par ville:\n",
      " ville\n",
      "Lyon         4500.0\n",
      "Marseille    5000.0\n",
      "Paris        3200.0\n",
      "Name: revenu, dtype: float64\n",
      "\n",
      "Aggregations:\n",
      "             age  revenu      \n",
      "           mean    mean   max\n",
      "ville                        \n",
      "Lyon       30.0  4500.0  4500\n",
      "Marseille  35.0  5000.0  5000\n",
      "Paris      25.0  3200.0  3200\n",
      "\n",
      "Pivot table:\n",
      " categorie  junior  senior\n",
      "ville                    \n",
      "Lyon       4500.0     0.0\n",
      "Marseille     0.0  5000.0\n",
      "Paris      3200.0     0.0\n",
      "\n",
      "Doublons:\n",
      " 0    False\n",
      "1    False\n",
      "2    False\n",
      "dtype: bool\n",
      "\n",
      "Supprimer doublons:\n",
      "    id      nom  age  revenu      ville  revenu_annuel categorie\n",
      "0   1    Alice   25    3200      Paris          38400    junior\n",
      "1   2      Bob   30    4500       Lyon          54000    junior\n",
      "2   3  Charlie   35    5000  Marseille          60000    senior\n",
      "\n",
      "Merge df1 et df2b:\n",
      "    id    nom poste\n",
      "0   1  Alice   Dev\n",
      "\n",
      "Concat vertical df1 et df2b:\n",
      "    id    nom    poste\n",
      "0   1  Alice      NaN\n",
      "1   2    Bob      NaN\n",
      "2   1    NaN      Dev\n",
      "3   3    NaN  Manager\n",
      "\n",
      "Concat horizontal df1 et df2b:\n",
      "    id    nom  id    poste\n",
      "0   1  Alice   1      Dev\n",
      "1   2    Bob   3  Manager\n",
      "\n",
      "Export Excel et JSON réalisés\n",
      "\n",
      "Dates resample:\n",
      "             valeur\n",
      "date              \n",
      "2025-01-01      10\n",
      "2025-01-02      20\n"
     ]
    },
    {
     "data": {
      "image/png": "[encoded data removed]",
      "text/plain": [
       "<Figure size 640x480 with 1 Axes>"
      ]
     },
     "metadata": {},
     "output_type": "display_data"
    },
    {
     "data": {
      "image/png": "[encoded data removed]",
      "text/plain": [
       "<Figure size 640x480 with 1 Axes>"
      ]
     },
     "metadata": {},
     "output_type": "display_data"
    },
    {
     "data": {
      "image/png": "[encoded data removed]",
      "text/plain": [
       "<Figure size 640x480 with 1 Axes>"
      ]
     },
     "metadata": {},
     "output_type": "display_data"
    }
   ],
   "source": [
    "import pandas as pd\n",
    "import numpy as np\n",
    "\n",
    "# ==============================\n",
    "# 1. Création d'un DataFrame\n",
    "# ==============================\n",
    "df = pd.DataFrame({\n",
    "    \"id\": [1,2,3],\n",
    "    \"nom\": [\"Alice\",\"Bob\",\"Charlie\"],\n",
    "    \"age\": [25,30,35],\n",
    "    \"revenu\": [3200, 4500, 5000],\n",
    "    \"ville\": [\"Paris\",\"Lyon\",\"Marseille\"]  # ajout de la colonne ville\n",
    "})\n",
    "print(\"DataFrame initial:\\n\", df)\n",
    "\n",
    "# ==============================\n",
    "# 2. Lire / écrire CSV\n",
    "# ==============================\n",
    "df.to_csv(\"fichier.csv\", index=False)      \n",
    "df2 = pd.read_csv(\"fichier.csv\")           \n",
    "print(\"\\nLecture CSV:\\n\", df2)\n",
    "\n",
    "# ==============================\n",
    "# 3. Aperçu et exploration\n",
    "# ==============================\n",
    "print(\"\\nPremières lignes:\\n\", df.head())\n",
    "print(\"\\nDernières lignes:\\n\", df.tail(3))\n",
    "print(\"\\nInfo colonnes:\\n\")\n",
    "df.info()\n",
    "print(\"\\nStatistiques:\\n\", df.describe())\n",
    "print(\"\\nDimensions:\", df.shape)\n",
    "print(\"\\nColonnes:\", df.columns)\n",
    "\n",
    "# ==============================\n",
    "# 4. Sélection et filtrage\n",
    "# ==============================\n",
    "print(\"\\nColonne 'nom':\\n\", df[\"nom\"])\n",
    "print(\"\\nColonnes 'nom' et 'age':\\n\", df[[\"nom\",\"age\"]])\n",
    "print(\"\\nCellule (0,1):\", df.iloc[0,1])\n",
    "print(\"\\nCellule label (0,'nom'):\", df.loc[0,\"nom\"])\n",
    "print(\"\\nFiltrer age>30:\\n\", df[df[\"age\"]>30])\n",
    "print(\"\\nFiltrer villes Paris ou Lyon:\\n\", df[df[\"ville\"].isin([\"Paris\",\"Lyon\"])])\n",
    "\n",
    "# ==============================\n",
    "# 5. Nettoyage\n",
    "# ==============================\n",
    "print(\"\\nSupprimer NaN:\\n\", df.dropna())\n",
    "print(\"\\nRemplir NaN par 0:\\n\", df.fillna(0))\n",
    "print(\"\\nRenommer colonne nom -> prenom:\\n\", df.rename(columns={\"nom\":\"prenom\"}))\n",
    "print(\"\\nSupprimer colonne 'revenu':\\n\", df.drop(columns=[\"revenu\"]))\n",
    "print(\"\\nRemplir NaN dans 'age' par la moyenne:\\n\", df[\"age\"].fillna(df[\"age\"].mean()))\n",
    "\n",
    "# ==============================\n",
    "# 6. Trier et modifier\n",
    "# ==============================\n",
    "print(\"\\nTri par age:\\n\", df.sort_values(\"age\"))\n",
    "print(\"\\nTri par ville puis age (desc):\\n\", df.sort_values([\"ville\",\"age\"], ascending=[True,False]))\n",
    "df[\"revenu_annuel\"] = df[\"revenu\"]*12\n",
    "df[\"categorie\"] = np.where(df[\"age\"]>30,\"senior\",\"junior\")\n",
    "print(\"\\nDataFrame avec revenus annuels et catégorie:\\n\", df)\n",
    "\n",
    "# ==============================\n",
    "# 7. GroupBy et pivot\n",
    "# ==============================\n",
    "print(\"\\nMoyenne revenu par ville:\\n\", df.groupby(\"ville\")[\"revenu\"].mean())\n",
    "print(\"\\nAggregations:\\n\", df.groupby(\"ville\").agg({\"age\":\"mean\",\"revenu\":[\"mean\",\"max\"]}))\n",
    "pivot = pd.pivot_table(df, values=\"revenu\", index=\"ville\", columns=\"categorie\", aggfunc=\"mean\", fill_value=0)\n",
    "print(\"\\nPivot table:\\n\", pivot)\n",
    "\n",
    "# ==============================\n",
    "# 8. Doublons\n",
    "# ==============================\n",
    "print(\"\\nDoublons:\\n\", df.duplicated())\n",
    "print(\"\\nSupprimer doublons:\\n\", df.drop_duplicates())\n",
    "\n",
    "# ==============================\n",
    "# 9. Fusion / concaténation\n",
    "# ==============================\n",
    "df1 = pd.DataFrame({\"id\":[1,2],\"nom\":[\"Alice\",\"Bob\"]})\n",
    "df2b = pd.DataFrame({\"id\":[1,3],\"poste\":[\"Dev\",\"Manager\"]})\n",
    "print(\"\\nMerge df1 et df2b:\\n\", pd.merge(df1, df2b, on=\"id\", how=\"inner\"))\n",
    "print(\"\\nConcat vertical df1 et df2b:\\n\", pd.concat([df1, df2b], ignore_index=True))\n",
    "print(\"\\nConcat horizontal df1 et df2b:\\n\", pd.concat([df1, df2b], axis=1))\n",
    "\n",
    "# ==============================\n",
    "# 10. Cas avancés\n",
    "# ==============================\n",
    "# lire par morceaux (exemple)\n",
    "# chunks = pd.read_csv(\"large.csv\", chunksize=200)\n",
    "df.to_excel(\"fichier.xlsx\", index=False)  \n",
    "df.to_json(\"fichier.json\", orient=\"records\", lines=True)\n",
    "print(\"\\nExport Excel et JSON réalisés\")\n",
    "\n",
    "# ==============================\n",
    "# 11. Dates\n",
    "# ==============================\n",
    "df_dates = pd.DataFrame({\"date\":[\"2025-01-01\",\"2025-01-02\"], \"valeur\":[10,20]})\n",
    "df_dates[\"date\"] = pd.to_datetime(df_dates[\"date\"])\n",
    "df_dates.set_index(\"date\", inplace=True)\n",
    "print(\"\\nDates resample:\\n\", df_dates.resample(\"D\").sum())\n",
    "\n",
    "# ==============================\n",
    "# 12. Visualisation rapide\n",
    "# ==============================\n",
    "import matplotlib.pyplot as plt\n",
    "\n",
    "df[\"revenu\"].plot(kind=\"hist\", bins=5, title=\"Histogramme des revenus\")\n",
    "plt.show()\n",
    "\n",
    "df.plot(x=\"age\", y=\"revenu\", kind=\"line\", title=\"Revenu en fonction de l'âge\")\n",
    "plt.show()\n",
    "\n",
    "df.plot(x=\"age\", y=\"revenu\", kind=\"scatter\", title=\"Scatter Revenu vs Age\")\n",
    "plt.show()\n"
   ]
  }
 ],
 "metadata": {
  "kernelspec": {
   "display_name": "Python 3",
   "language": "python",
   "name": "python3"
  },
  "language_info": {
   "codemirror_mode": {
    "name": "ipython",
    "version": 3
   },
   "file_extension": ".py",
   "mimetype": "text/x-python",
   "name": "python",
   "nbconvert_exporter": "python",
   "pygments_lexer": "ipython3",
   "version": "3.13.0"
  }
 },
 "nbformat": 4,
 "nbformat_minor": 2
}
